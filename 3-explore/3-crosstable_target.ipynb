{
 "cells": [
  {
   "cell_type": "markdown",
   "metadata": {},
   "source": [
    "# Path"
   ]
  },
  {
   "cell_type": "code",
   "execution_count": 1,
   "metadata": {},
   "outputs": [],
   "source": [
    "import sys\n",
    "import os\n",
    "\n",
    "project_path = r'/home/craxiss/Documents/projects/kapsul_etkinlik_v2'\n",
    "\n",
    "os.chdir(project_path)\n",
    "sys.path.append(project_path)"
   ]
  },
  {
   "cell_type": "markdown",
   "metadata": {},
   "source": [
    "# Import"
   ]
  },
  {
   "cell_type": "code",
   "execution_count": 2,
   "metadata": {},
   "outputs": [],
   "source": [
    "from helpers import column_formatter, utf8_convert\n",
    "from charset_normalizer import detect\n",
    "from config import data_path as path\n",
    "from itertools import combinations \n",
    "from datetime import datetime\n",
    "from json import dump, load\n",
    "import plotly.express as px\n",
    "import pandas as pd\n",
    "import warnings\n",
    "import openpyxl"
   ]
  },
  {
   "cell_type": "markdown",
   "metadata": {},
   "source": [
    "# Read"
   ]
  },
  {
   "cell_type": "code",
   "execution_count": 3,
   "metadata": {},
   "outputs": [],
   "source": [
    "information = pd.read_excel(\n",
    "    path+'/3-result/information.xlsx', index_col='Unnamed: 0')\n",
    "events_per_person = pd.read_excel(\n",
    "    path+'/3-result/events_per_person.xlsx', index_col='Unnamed: 0')\n",
    "events = pd.read_excel(\n",
    "    path+'/3-result/events.xlsx', index_col='Unnamed: 0')\n",
    "ohe = pd.read_excel(\n",
    "    path+'/3-result/event_per_person_ohe.xlsx', index_col='Unnamed: 0')\n",
    "\n",
    "\n",
    "with pd.ExcelFile(path + '/2-cleaned/basvuru.xlsx') as appeals_xlsx:\n",
    "    appeals = pd.read_excel(\n",
    "        appeals_xlsx, index_col='Unnamed: 0', sheet_name='Başvurular')\n",
    "    lessons_all = pd.read_excel(\n",
    "        appeals_xlsx, index_col='Unnamed: 0', sheet_name='Dersler')\n",
    "\n",
    "\n",
    "with pd.ExcelFile(path + '/2-cleaned/yoklama.xlsx') as rolls_xlsx:\n",
    "    rolls_info = pd.read_excel(\n",
    "        rolls_xlsx, 'General Info', index_col='Unnamed: 0')\n",
    "\n",
    "    rolls = dict()\n",
    "    for sheet in rolls_info.index:\n",
    "        rolls[sheet] = pd.read_excel(rolls_xlsx, sheet)\n",
    "\n",
    "information['id'] = information.index"
   ]
  },
  {
   "cell_type": "markdown",
   "metadata": {},
   "source": [
    "# Target People"
   ]
  },
  {
   "cell_type": "code",
   "execution_count": 4,
   "metadata": {},
   "outputs": [],
   "source": [
    "df1, df2 = ohe[ohe.columns[::2]], ohe[ohe.columns[1::2]]\n",
    "\n",
    "df = pd.DataFrame([df1.T.sum() , df2.T.sum()]).T\n",
    "df.columns = ['b', 'k']\n",
    "\n",
    "df['ratio'] = df.k / df.b\n",
    "\n",
    "target_df = df[df['ratio'] >= 0.5].sort_values(by='b', ascending=False)[:49]\n",
    "\n",
    "ohe = ohe.T[target_df.index].T"
   ]
  },
  {
   "cell_type": "markdown",
   "metadata": {},
   "source": [
    "# Appeals"
   ]
  },
  {
   "cell_type": "code",
   "execution_count": 5,
   "metadata": {},
   "outputs": [],
   "source": [
    "events_list=list(events['eğitim'])"
   ]
  },
  {
   "cell_type": "code",
   "execution_count": 6,
   "metadata": {},
   "outputs": [
    {
     "data": {
      "application/vnd.plotly.v1+json": {
       "config": {
        "plotlyServerURL": "https://plot.ly"
       },
       "data": [
        {
         "coloraxis": "coloraxis",
         "hovertemplate": "x: %{x}<br>y: %{y}<br>color: %{z}<extra></extra>",
         "name": "0",
         "texttemplate": "%{z}",
         "type": "heatmap",
         "x": [
          "b1",
          "b2",
          "b3",
          "b4",
          "b5",
          "b6",
          "b7",
          "b8",
          "b9",
          "b10",
          "b11",
          "b12",
          "b13",
          "b14",
          "b15",
          "b16",
          "b17",
          "b18",
          "b19",
          "b20",
          "b21",
          "b22",
          "b23",
          "b24"
         ],
         "xaxis": "x",
         "y": [
          "b1",
          "b2",
          "b3",
          "b4",
          "b5",
          "b6",
          "b7",
          "b8",
          "b9",
          "b10",
          "b11",
          "b12",
          "b13",
          "b14",
          "b15",
          "b16",
          "b17",
          "b18",
          "b19",
          "b20",
          "b21",
          "b22",
          "b23",
          "b24"
         ],
         "yaxis": "y",
         "z": [
          [
           3,
           1,
           1,
           2,
           2,
           1,
           1,
           1,
           1,
           1,
           1,
           1,
           1,
           1,
           1,
           1,
           1,
           1,
           1,
           1,
           1,
           2,
           2,
           1
          ],
          [
           1,
           4,
           2,
           3,
           3,
           1,
           1,
           1,
           1,
           1,
           2,
           1,
           1,
           1,
           1,
           1,
           1,
           1,
           2,
           1,
           1,
           1,
           1,
           1
          ],
          [
           1,
           2,
           6,
           3,
           1,
           1,
           2,
           2,
           1,
           1,
           1,
           1,
           1,
           2,
           1,
           2,
           1,
           1,
           2,
           1,
           1,
           1,
           2,
           1
          ],
          [
           2,
           3,
           3,
           8,
           5,
           1,
           1,
           2,
           3,
           1,
           2,
           1,
           2,
           2,
           1,
           1,
           1,
           2,
           1,
           1,
           1,
           3,
           1,
           2
          ],
          [
           2,
           3,
           1,
           5,
           11,
           1,
           1,
           1,
           2,
           2,
           2,
           1,
           3,
           2,
           2,
           2,
           1,
           2,
           2,
           1,
           1,
           3,
           2,
           2
          ],
          [
           1,
           1,
           1,
           1,
           1,
           1,
           1,
           1,
           1,
           1,
           1,
           1,
           1,
           1,
           1,
           1,
           1,
           1,
           1,
           1,
           1,
           1,
           1,
           1
          ],
          [
           1,
           1,
           2,
           1,
           1,
           1,
           5,
           3,
           2,
           2,
           1,
           1,
           1,
           1,
           1,
           2,
           1,
           1,
           1,
           1,
           1,
           1,
           2,
           1
          ],
          [
           1,
           1,
           2,
           2,
           1,
           1,
           3,
           6,
           3,
           3,
           3,
           1,
           2,
           4,
           2,
           1,
           1,
           2,
           2,
           2,
           1,
           2,
           1,
           1
          ],
          [
           1,
           1,
           1,
           3,
           2,
           1,
           2,
           3,
           9,
           2,
           3,
           3,
           3,
           3,
           3,
           2,
           2,
           3,
           3,
           2,
           2,
           3,
           3,
           2
          ],
          [
           1,
           1,
           1,
           1,
           2,
           1,
           2,
           3,
           2,
           7,
           4,
           2,
           3,
           4,
           5,
           2,
           2,
           3,
           4,
           3,
           2,
           4,
           3,
           1
          ],
          [
           1,
           2,
           1,
           2,
           2,
           1,
           1,
           3,
           3,
           4,
           12,
           2,
           5,
           7,
           4,
           4,
           3,
           6,
           5,
           4,
           3,
           4,
           7,
           1
          ],
          [
           1,
           1,
           1,
           1,
           1,
           1,
           1,
           1,
           3,
           2,
           2,
           4,
           3,
           2,
           3,
           3,
           2,
           3,
           4,
           3,
           2,
           2,
           2,
           1
          ],
          [
           1,
           1,
           1,
           2,
           3,
           1,
           1,
           2,
           3,
           3,
           5,
           3,
           11,
           8,
           6,
           7,
           4,
           7,
           6,
           6,
           3,
           4,
           3,
           2
          ],
          [
           1,
           1,
           2,
           2,
           2,
           1,
           1,
           4,
           3,
           4,
           7,
           2,
           8,
           16,
           7,
           7,
           4,
           5,
           6,
           5,
           3,
           5,
           3,
           1
          ],
          [
           1,
           1,
           1,
           1,
           2,
           1,
           1,
           2,
           3,
           5,
           4,
           3,
           6,
           7,
           12,
           5,
           4,
           5,
           8,
           5,
           3,
           6,
           3,
           1
          ],
          [
           1,
           1,
           2,
           1,
           2,
           1,
           2,
           1,
           2,
           2,
           4,
           3,
           7,
           7,
           5,
           14,
           4,
           6,
           8,
           6,
           3,
           6,
           3,
           1
          ],
          [
           1,
           1,
           1,
           1,
           1,
           1,
           1,
           1,
           2,
           2,
           3,
           2,
           4,
           4,
           4,
           4,
           4,
           4,
           4,
           4,
           3,
           3,
           2,
           1
          ],
          [
           1,
           1,
           1,
           2,
           2,
           1,
           1,
           2,
           3,
           3,
           6,
           3,
           7,
           5,
           5,
           6,
           4,
           10,
           7,
           7,
           3,
           5,
           4,
           2
          ],
          [
           1,
           2,
           2,
           1,
           2,
           1,
           1,
           2,
           3,
           4,
           5,
           4,
           6,
           6,
           8,
           8,
           4,
           7,
           13,
           7,
           3,
           8,
           4,
           1
          ],
          [
           1,
           1,
           1,
           1,
           1,
           1,
           1,
           2,
           2,
           3,
           4,
           3,
           6,
           5,
           5,
           6,
           4,
           7,
           7,
           7,
           3,
           5,
           2,
           1
          ],
          [
           1,
           1,
           1,
           1,
           1,
           1,
           1,
           1,
           2,
           2,
           3,
           2,
           3,
           3,
           3,
           3,
           3,
           3,
           3,
           3,
           3,
           3,
           2,
           1
          ],
          [
           2,
           1,
           1,
           3,
           3,
           1,
           1,
           2,
           3,
           4,
           4,
           2,
           4,
           5,
           6,
           6,
           3,
           5,
           8,
           5,
           3,
           11,
           3,
           1
          ],
          [
           2,
           1,
           2,
           1,
           2,
           1,
           2,
           1,
           3,
           3,
           7,
           2,
           3,
           3,
           3,
           3,
           2,
           4,
           4,
           2,
           2,
           3,
           12,
           1
          ],
          [
           1,
           1,
           1,
           2,
           2,
           1,
           1,
           1,
           2,
           1,
           1,
           1,
           2,
           1,
           1,
           1,
           1,
           2,
           1,
           1,
           1,
           1,
           1,
           2
          ]
         ]
        }
       ],
       "layout": {
        "coloraxis": {
         "colorscale": [
          [
           0,
           "#0d0887"
          ],
          [
           0.1111111111111111,
           "#46039f"
          ],
          [
           0.2222222222222222,
           "#7201a8"
          ],
          [
           0.3333333333333333,
           "#9c179e"
          ],
          [
           0.4444444444444444,
           "#bd3786"
          ],
          [
           0.5555555555555556,
           "#d8576b"
          ],
          [
           0.6666666666666666,
           "#ed7953"
          ],
          [
           0.7777777777777778,
           "#fb9f3a"
          ],
          [
           0.8888888888888888,
           "#fdca26"
          ],
          [
           1,
           "#f0f921"
          ]
         ]
        },
        "height": 1000,
        "margin": {
         "t": 60
        },
        "template": {
         "data": {
          "bar": [
           {
            "error_x": {
             "color": "#2a3f5f"
            },
            "error_y": {
             "color": "#2a3f5f"
            },
            "marker": {
             "line": {
              "color": "#E5ECF6",
              "width": 0.5
             },
             "pattern": {
              "fillmode": "overlay",
              "size": 10,
              "solidity": 0.2
             }
            },
            "type": "bar"
           }
          ],
          "barpolar": [
           {
            "marker": {
             "line": {
              "color": "#E5ECF6",
              "width": 0.5
             },
             "pattern": {
              "fillmode": "overlay",
              "size": 10,
              "solidity": 0.2
             }
            },
            "type": "barpolar"
           }
          ],
          "carpet": [
           {
            "aaxis": {
             "endlinecolor": "#2a3f5f",
             "gridcolor": "white",
             "linecolor": "white",
             "minorgridcolor": "white",
             "startlinecolor": "#2a3f5f"
            },
            "baxis": {
             "endlinecolor": "#2a3f5f",
             "gridcolor": "white",
             "linecolor": "white",
             "minorgridcolor": "white",
             "startlinecolor": "#2a3f5f"
            },
            "type": "carpet"
           }
          ],
          "choropleth": [
           {
            "colorbar": {
             "outlinewidth": 0,
             "ticks": ""
            },
            "type": "choropleth"
           }
          ],
          "contour": [
           {
            "colorbar": {
             "outlinewidth": 0,
             "ticks": ""
            },
            "colorscale": [
             [
              0,
              "#0d0887"
             ],
             [
              0.1111111111111111,
              "#46039f"
             ],
             [
              0.2222222222222222,
              "#7201a8"
             ],
             [
              0.3333333333333333,
              "#9c179e"
             ],
             [
              0.4444444444444444,
              "#bd3786"
             ],
             [
              0.5555555555555556,
              "#d8576b"
             ],
             [
              0.6666666666666666,
              "#ed7953"
             ],
             [
              0.7777777777777778,
              "#fb9f3a"
             ],
             [
              0.8888888888888888,
              "#fdca26"
             ],
             [
              1,
              "#f0f921"
             ]
            ],
            "type": "contour"
           }
          ],
          "contourcarpet": [
           {
            "colorbar": {
             "outlinewidth": 0,
             "ticks": ""
            },
            "type": "contourcarpet"
           }
          ],
          "heatmap": [
           {
            "colorbar": {
             "outlinewidth": 0,
             "ticks": ""
            },
            "colorscale": [
             [
              0,
              "#0d0887"
             ],
             [
              0.1111111111111111,
              "#46039f"
             ],
             [
              0.2222222222222222,
              "#7201a8"
             ],
             [
              0.3333333333333333,
              "#9c179e"
             ],
             [
              0.4444444444444444,
              "#bd3786"
             ],
             [
              0.5555555555555556,
              "#d8576b"
             ],
             [
              0.6666666666666666,
              "#ed7953"
             ],
             [
              0.7777777777777778,
              "#fb9f3a"
             ],
             [
              0.8888888888888888,
              "#fdca26"
             ],
             [
              1,
              "#f0f921"
             ]
            ],
            "type": "heatmap"
           }
          ],
          "heatmapgl": [
           {
            "colorbar": {
             "outlinewidth": 0,
             "ticks": ""
            },
            "colorscale": [
             [
              0,
              "#0d0887"
             ],
             [
              0.1111111111111111,
              "#46039f"
             ],
             [
              0.2222222222222222,
              "#7201a8"
             ],
             [
              0.3333333333333333,
              "#9c179e"
             ],
             [
              0.4444444444444444,
              "#bd3786"
             ],
             [
              0.5555555555555556,
              "#d8576b"
             ],
             [
              0.6666666666666666,
              "#ed7953"
             ],
             [
              0.7777777777777778,
              "#fb9f3a"
             ],
             [
              0.8888888888888888,
              "#fdca26"
             ],
             [
              1,
              "#f0f921"
             ]
            ],
            "type": "heatmapgl"
           }
          ],
          "histogram": [
           {
            "marker": {
             "pattern": {
              "fillmode": "overlay",
              "size": 10,
              "solidity": 0.2
             }
            },
            "type": "histogram"
           }
          ],
          "histogram2d": [
           {
            "colorbar": {
             "outlinewidth": 0,
             "ticks": ""
            },
            "colorscale": [
             [
              0,
              "#0d0887"
             ],
             [
              0.1111111111111111,
              "#46039f"
             ],
             [
              0.2222222222222222,
              "#7201a8"
             ],
             [
              0.3333333333333333,
              "#9c179e"
             ],
             [
              0.4444444444444444,
              "#bd3786"
             ],
             [
              0.5555555555555556,
              "#d8576b"
             ],
             [
              0.6666666666666666,
              "#ed7953"
             ],
             [
              0.7777777777777778,
              "#fb9f3a"
             ],
             [
              0.8888888888888888,
              "#fdca26"
             ],
             [
              1,
              "#f0f921"
             ]
            ],
            "type": "histogram2d"
           }
          ],
          "histogram2dcontour": [
           {
            "colorbar": {
             "outlinewidth": 0,
             "ticks": ""
            },
            "colorscale": [
             [
              0,
              "#0d0887"
             ],
             [
              0.1111111111111111,
              "#46039f"
             ],
             [
              0.2222222222222222,
              "#7201a8"
             ],
             [
              0.3333333333333333,
              "#9c179e"
             ],
             [
              0.4444444444444444,
              "#bd3786"
             ],
             [
              0.5555555555555556,
              "#d8576b"
             ],
             [
              0.6666666666666666,
              "#ed7953"
             ],
             [
              0.7777777777777778,
              "#fb9f3a"
             ],
             [
              0.8888888888888888,
              "#fdca26"
             ],
             [
              1,
              "#f0f921"
             ]
            ],
            "type": "histogram2dcontour"
           }
          ],
          "mesh3d": [
           {
            "colorbar": {
             "outlinewidth": 0,
             "ticks": ""
            },
            "type": "mesh3d"
           }
          ],
          "parcoords": [
           {
            "line": {
             "colorbar": {
              "outlinewidth": 0,
              "ticks": ""
             }
            },
            "type": "parcoords"
           }
          ],
          "pie": [
           {
            "automargin": true,
            "type": "pie"
           }
          ],
          "scatter": [
           {
            "fillpattern": {
             "fillmode": "overlay",
             "size": 10,
             "solidity": 0.2
            },
            "type": "scatter"
           }
          ],
          "scatter3d": [
           {
            "line": {
             "colorbar": {
              "outlinewidth": 0,
              "ticks": ""
             }
            },
            "marker": {
             "colorbar": {
              "outlinewidth": 0,
              "ticks": ""
             }
            },
            "type": "scatter3d"
           }
          ],
          "scattercarpet": [
           {
            "marker": {
             "colorbar": {
              "outlinewidth": 0,
              "ticks": ""
             }
            },
            "type": "scattercarpet"
           }
          ],
          "scattergeo": [
           {
            "marker": {
             "colorbar": {
              "outlinewidth": 0,
              "ticks": ""
             }
            },
            "type": "scattergeo"
           }
          ],
          "scattergl": [
           {
            "marker": {
             "colorbar": {
              "outlinewidth": 0,
              "ticks": ""
             }
            },
            "type": "scattergl"
           }
          ],
          "scattermapbox": [
           {
            "marker": {
             "colorbar": {
              "outlinewidth": 0,
              "ticks": ""
             }
            },
            "type": "scattermapbox"
           }
          ],
          "scatterpolar": [
           {
            "marker": {
             "colorbar": {
              "outlinewidth": 0,
              "ticks": ""
             }
            },
            "type": "scatterpolar"
           }
          ],
          "scatterpolargl": [
           {
            "marker": {
             "colorbar": {
              "outlinewidth": 0,
              "ticks": ""
             }
            },
            "type": "scatterpolargl"
           }
          ],
          "scatterternary": [
           {
            "marker": {
             "colorbar": {
              "outlinewidth": 0,
              "ticks": ""
             }
            },
            "type": "scatterternary"
           }
          ],
          "surface": [
           {
            "colorbar": {
             "outlinewidth": 0,
             "ticks": ""
            },
            "colorscale": [
             [
              0,
              "#0d0887"
             ],
             [
              0.1111111111111111,
              "#46039f"
             ],
             [
              0.2222222222222222,
              "#7201a8"
             ],
             [
              0.3333333333333333,
              "#9c179e"
             ],
             [
              0.4444444444444444,
              "#bd3786"
             ],
             [
              0.5555555555555556,
              "#d8576b"
             ],
             [
              0.6666666666666666,
              "#ed7953"
             ],
             [
              0.7777777777777778,
              "#fb9f3a"
             ],
             [
              0.8888888888888888,
              "#fdca26"
             ],
             [
              1,
              "#f0f921"
             ]
            ],
            "type": "surface"
           }
          ],
          "table": [
           {
            "cells": {
             "fill": {
              "color": "#EBF0F8"
             },
             "line": {
              "color": "white"
             }
            },
            "header": {
             "fill": {
              "color": "#C8D4E3"
             },
             "line": {
              "color": "white"
             }
            },
            "type": "table"
           }
          ]
         },
         "layout": {
          "annotationdefaults": {
           "arrowcolor": "#2a3f5f",
           "arrowhead": 0,
           "arrowwidth": 1
          },
          "autotypenumbers": "strict",
          "coloraxis": {
           "colorbar": {
            "outlinewidth": 0,
            "ticks": ""
           }
          },
          "colorscale": {
           "diverging": [
            [
             0,
             "#8e0152"
            ],
            [
             0.1,
             "#c51b7d"
            ],
            [
             0.2,
             "#de77ae"
            ],
            [
             0.3,
             "#f1b6da"
            ],
            [
             0.4,
             "#fde0ef"
            ],
            [
             0.5,
             "#f7f7f7"
            ],
            [
             0.6,
             "#e6f5d0"
            ],
            [
             0.7,
             "#b8e186"
            ],
            [
             0.8,
             "#7fbc41"
            ],
            [
             0.9,
             "#4d9221"
            ],
            [
             1,
             "#276419"
            ]
           ],
           "sequential": [
            [
             0,
             "#0d0887"
            ],
            [
             0.1111111111111111,
             "#46039f"
            ],
            [
             0.2222222222222222,
             "#7201a8"
            ],
            [
             0.3333333333333333,
             "#9c179e"
            ],
            [
             0.4444444444444444,
             "#bd3786"
            ],
            [
             0.5555555555555556,
             "#d8576b"
            ],
            [
             0.6666666666666666,
             "#ed7953"
            ],
            [
             0.7777777777777778,
             "#fb9f3a"
            ],
            [
             0.8888888888888888,
             "#fdca26"
            ],
            [
             1,
             "#f0f921"
            ]
           ],
           "sequentialminus": [
            [
             0,
             "#0d0887"
            ],
            [
             0.1111111111111111,
             "#46039f"
            ],
            [
             0.2222222222222222,
             "#7201a8"
            ],
            [
             0.3333333333333333,
             "#9c179e"
            ],
            [
             0.4444444444444444,
             "#bd3786"
            ],
            [
             0.5555555555555556,
             "#d8576b"
            ],
            [
             0.6666666666666666,
             "#ed7953"
            ],
            [
             0.7777777777777778,
             "#fb9f3a"
            ],
            [
             0.8888888888888888,
             "#fdca26"
            ],
            [
             1,
             "#f0f921"
            ]
           ]
          },
          "colorway": [
           "#636efa",
           "#EF553B",
           "#00cc96",
           "#ab63fa",
           "#FFA15A",
           "#19d3f3",
           "#FF6692",
           "#B6E880",
           "#FF97FF",
           "#FECB52"
          ],
          "font": {
           "color": "#2a3f5f"
          },
          "geo": {
           "bgcolor": "white",
           "lakecolor": "white",
           "landcolor": "#E5ECF6",
           "showlakes": true,
           "showland": true,
           "subunitcolor": "white"
          },
          "hoverlabel": {
           "align": "left"
          },
          "hovermode": "closest",
          "mapbox": {
           "style": "light"
          },
          "paper_bgcolor": "white",
          "plot_bgcolor": "#E5ECF6",
          "polar": {
           "angularaxis": {
            "gridcolor": "white",
            "linecolor": "white",
            "ticks": ""
           },
           "bgcolor": "#E5ECF6",
           "radialaxis": {
            "gridcolor": "white",
            "linecolor": "white",
            "ticks": ""
           }
          },
          "scene": {
           "xaxis": {
            "backgroundcolor": "#E5ECF6",
            "gridcolor": "white",
            "gridwidth": 2,
            "linecolor": "white",
            "showbackground": true,
            "ticks": "",
            "zerolinecolor": "white"
           },
           "yaxis": {
            "backgroundcolor": "#E5ECF6",
            "gridcolor": "white",
            "gridwidth": 2,
            "linecolor": "white",
            "showbackground": true,
            "ticks": "",
            "zerolinecolor": "white"
           },
           "zaxis": {
            "backgroundcolor": "#E5ECF6",
            "gridcolor": "white",
            "gridwidth": 2,
            "linecolor": "white",
            "showbackground": true,
            "ticks": "",
            "zerolinecolor": "white"
           }
          },
          "shapedefaults": {
           "line": {
            "color": "#2a3f5f"
           }
          },
          "ternary": {
           "aaxis": {
            "gridcolor": "white",
            "linecolor": "white",
            "ticks": ""
           },
           "baxis": {
            "gridcolor": "white",
            "linecolor": "white",
            "ticks": ""
           },
           "bgcolor": "#E5ECF6",
           "caxis": {
            "gridcolor": "white",
            "linecolor": "white",
            "ticks": ""
           }
          },
          "title": {
           "x": 0.05
          },
          "xaxis": {
           "automargin": true,
           "gridcolor": "white",
           "linecolor": "white",
           "ticks": "",
           "title": {
            "standoff": 15
           },
           "zerolinecolor": "white",
           "zerolinewidth": 2
          },
          "yaxis": {
           "automargin": true,
           "gridcolor": "white",
           "linecolor": "white",
           "ticks": "",
           "title": {
            "standoff": 15
           },
           "zerolinecolor": "white",
           "zerolinewidth": 2
          }
         }
        },
        "width": 1000,
        "xaxis": {
         "anchor": "y",
         "constrain": "domain",
         "domain": [
          0,
          1
         ],
         "scaleanchor": "y"
        },
        "yaxis": {
         "anchor": "x",
         "autorange": "reversed",
         "constrain": "domain",
         "domain": [
          0,
          1
         ]
        }
       }
      }
     },
     "metadata": {},
     "output_type": "display_data"
    }
   ],
   "source": [
    "target_cols = ohe.columns[::2]\n",
    "appeals_cross_df = pd.DataFrame(columns=target_cols, index=target_cols)\n",
    "\n",
    "combs = list(combinations(target_cols, 2))\n",
    "\n",
    "for comb in combs:\n",
    "    x,y = int(comb[0].replace('b', ''))-1, int(comb[1].replace('b', ''))-1\n",
    "    appeals_cross_df.iloc[x,y] = ohe[(ohe[comb[0]] == 1) & (ohe[comb[1]] == 1)].shape[0]\n",
    "    appeals_cross_df.iloc[y,x] = appeals_cross_df.iloc[x,y]\n",
    "\n",
    "for col in target_cols:\n",
    "    x = int(col.replace('b', ''))-1\n",
    "    appeals_cross_df.iloc[x, x] = ohe[col].sum()\n",
    "\n",
    "px.imshow(appeals_cross_df, text_auto=True, width=1000, height=1000)"
   ]
  },
  {
   "cell_type": "markdown",
   "metadata": {},
   "source": [
    "# Rolls"
   ]
  },
  {
   "cell_type": "code",
   "execution_count": 7,
   "metadata": {},
   "outputs": [
    {
     "data": {
      "application/vnd.plotly.v1+json": {
       "config": {
        "plotlyServerURL": "https://plot.ly"
       },
       "data": [
        {
         "coloraxis": "coloraxis",
         "hovertemplate": "x: %{x}<br>y: %{y}<br>color: %{z}<extra></extra>",
         "name": "0",
         "texttemplate": "%{z}",
         "type": "heatmap",
         "x": [
          "k1",
          "k2",
          "k3",
          "k4",
          "k5",
          "k6",
          "k7",
          "k8",
          "k9",
          "k10",
          "k11",
          "k12",
          "k13",
          "k14",
          "k15",
          "k16",
          "k17",
          "k18",
          "k19",
          "k20",
          "k21",
          "k22",
          "k23",
          "k24"
         ],
         "xaxis": "x",
         "y": [
          "k1",
          "k2",
          "k3",
          "k4",
          "k5",
          "k6",
          "k7",
          "k8",
          "k9",
          "k10",
          "k11",
          "k12",
          "k13",
          "k14",
          "k15",
          "k16",
          "k17",
          "k18",
          "k19",
          "k20",
          "k21",
          "k22",
          "k23",
          "k24"
         ],
         "yaxis": "y",
         "z": [
          [
           5,
           0,
           0,
           2,
           2,
           1,
           0,
           1,
           1,
           0,
           1,
           0,
           1,
           1,
           1,
           1,
           1,
           1,
           1,
           0,
           1,
           0,
           0,
           0
          ],
          [
           0,
           4,
           1,
           2,
           3,
           0,
           0,
           0,
           0,
           0,
           2,
           0,
           0,
           0,
           0,
           0,
           0,
           0,
           0,
           0,
           0,
           0,
           0,
           0
          ],
          [
           0,
           1,
           4,
           1,
           0,
           0,
           1,
           0,
           0,
           0,
           1,
           0,
           0,
           0,
           0,
           0,
           0,
           0,
           0,
           0,
           0,
           0,
           0,
           0
          ],
          [
           2,
           2,
           1,
           8,
           5,
           1,
           0,
           1,
           2,
           0,
           2,
           0,
           1,
           2,
           1,
           2,
           1,
           1,
           1,
           0,
           0,
           0,
           0,
           0
          ],
          [
           2,
           3,
           0,
           5,
           9,
           1,
           0,
           1,
           1,
           0,
           2,
           0,
           1,
           2,
           1,
           2,
           1,
           1,
           1,
           0,
           0,
           0,
           0,
           0
          ],
          [
           1,
           0,
           0,
           1,
           1,
           1,
           0,
           1,
           1,
           0,
           0,
           0,
           1,
           1,
           1,
           1,
           1,
           1,
           1,
           0,
           0,
           0,
           0,
           0
          ],
          [
           0,
           0,
           1,
           0,
           0,
           0,
           4,
           1,
           1,
           0,
           0,
           0,
           0,
           0,
           0,
           0,
           0,
           0,
           0,
           0,
           0,
           0,
           0,
           0
          ],
          [
           1,
           0,
           0,
           1,
           1,
           1,
           1,
           4,
           2,
           0,
           1,
           1,
           1,
           1,
           2,
           1,
           2,
           2,
           2,
           0,
           0,
           0,
           0,
           0
          ],
          [
           1,
           0,
           0,
           2,
           1,
           1,
           1,
           2,
           8,
           0,
           3,
           2,
           2,
           2,
           2,
           1,
           2,
           2,
           4,
           1,
           1,
           0,
           0,
           0
          ],
          [
           0,
           0,
           0,
           0,
           0,
           0,
           0,
           0,
           0,
           2,
           1,
           0,
           0,
           1,
           0,
           0,
           0,
           0,
           0,
           0,
           0,
           0,
           0,
           0
          ],
          [
           1,
           2,
           1,
           2,
           2,
           0,
           0,
           1,
           3,
           1,
           15,
           3,
           0,
           2,
           3,
           1,
           3,
           3,
           5,
           2,
           3,
           0,
           0,
           0
          ],
          [
           0,
           0,
           0,
           0,
           0,
           0,
           0,
           1,
           2,
           0,
           3,
           3,
           0,
           1,
           1,
           0,
           1,
           1,
           2,
           1,
           1,
           0,
           0,
           0
          ],
          [
           1,
           0,
           0,
           1,
           1,
           1,
           0,
           1,
           2,
           0,
           0,
           0,
           4,
           2,
           2,
           2,
           1,
           1,
           2,
           1,
           0,
           0,
           0,
           0
          ],
          [
           1,
           0,
           0,
           2,
           2,
           1,
           0,
           1,
           2,
           1,
           2,
           1,
           2,
           8,
           3,
           3,
           1,
           1,
           2,
           2,
           1,
           0,
           0,
           0
          ],
          [
           1,
           0,
           0,
           1,
           1,
           1,
           0,
           2,
           2,
           0,
           3,
           1,
           2,
           3,
           9,
           2,
           3,
           3,
           4,
           3,
           2,
           0,
           0,
           0
          ],
          [
           1,
           0,
           0,
           2,
           2,
           1,
           0,
           1,
           1,
           0,
           1,
           0,
           2,
           3,
           2,
           6,
           1,
           1,
           1,
           1,
           1,
           0,
           0,
           0
          ],
          [
           1,
           0,
           0,
           1,
           1,
           1,
           0,
           2,
           2,
           0,
           3,
           1,
           1,
           1,
           3,
           1,
           6,
           6,
           4,
           1,
           1,
           0,
           0,
           0
          ],
          [
           1,
           0,
           0,
           1,
           1,
           1,
           0,
           2,
           2,
           0,
           3,
           1,
           1,
           1,
           3,
           1,
           6,
           6,
           4,
           1,
           1,
           0,
           0,
           0
          ],
          [
           1,
           0,
           0,
           1,
           1,
           1,
           0,
           2,
           4,
           0,
           5,
           2,
           2,
           2,
           4,
           1,
           4,
           4,
           9,
           2,
           2,
           0,
           0,
           0
          ],
          [
           0,
           0,
           0,
           0,
           0,
           0,
           0,
           0,
           1,
           0,
           2,
           1,
           1,
           2,
           3,
           1,
           1,
           1,
           2,
           4,
           2,
           0,
           0,
           0
          ],
          [
           1,
           0,
           0,
           0,
           0,
           0,
           0,
           0,
           1,
           0,
           3,
           1,
           0,
           1,
           2,
           1,
           1,
           1,
           2,
           2,
           6,
           0,
           0,
           0
          ],
          [
           0,
           0,
           0,
           0,
           0,
           0,
           0,
           0,
           0,
           0,
           0,
           0,
           0,
           0,
           0,
           0,
           0,
           0,
           0,
           0,
           0,
           0,
           0,
           0
          ],
          [
           0,
           0,
           0,
           0,
           0,
           0,
           0,
           0,
           0,
           0,
           0,
           0,
           0,
           0,
           0,
           0,
           0,
           0,
           0,
           0,
           0,
           0,
           0,
           0
          ],
          [
           0,
           0,
           0,
           0,
           0,
           0,
           0,
           0,
           0,
           0,
           0,
           0,
           0,
           0,
           0,
           0,
           0,
           0,
           0,
           0,
           0,
           0,
           0,
           0
          ]
         ]
        }
       ],
       "layout": {
        "coloraxis": {
         "colorscale": [
          [
           0,
           "#0d0887"
          ],
          [
           0.1111111111111111,
           "#46039f"
          ],
          [
           0.2222222222222222,
           "#7201a8"
          ],
          [
           0.3333333333333333,
           "#9c179e"
          ],
          [
           0.4444444444444444,
           "#bd3786"
          ],
          [
           0.5555555555555556,
           "#d8576b"
          ],
          [
           0.6666666666666666,
           "#ed7953"
          ],
          [
           0.7777777777777778,
           "#fb9f3a"
          ],
          [
           0.8888888888888888,
           "#fdca26"
          ],
          [
           1,
           "#f0f921"
          ]
         ]
        },
        "height": 1000,
        "margin": {
         "t": 60
        },
        "template": {
         "data": {
          "bar": [
           {
            "error_x": {
             "color": "#2a3f5f"
            },
            "error_y": {
             "color": "#2a3f5f"
            },
            "marker": {
             "line": {
              "color": "#E5ECF6",
              "width": 0.5
             },
             "pattern": {
              "fillmode": "overlay",
              "size": 10,
              "solidity": 0.2
             }
            },
            "type": "bar"
           }
          ],
          "barpolar": [
           {
            "marker": {
             "line": {
              "color": "#E5ECF6",
              "width": 0.5
             },
             "pattern": {
              "fillmode": "overlay",
              "size": 10,
              "solidity": 0.2
             }
            },
            "type": "barpolar"
           }
          ],
          "carpet": [
           {
            "aaxis": {
             "endlinecolor": "#2a3f5f",
             "gridcolor": "white",
             "linecolor": "white",
             "minorgridcolor": "white",
             "startlinecolor": "#2a3f5f"
            },
            "baxis": {
             "endlinecolor": "#2a3f5f",
             "gridcolor": "white",
             "linecolor": "white",
             "minorgridcolor": "white",
             "startlinecolor": "#2a3f5f"
            },
            "type": "carpet"
           }
          ],
          "choropleth": [
           {
            "colorbar": {
             "outlinewidth": 0,
             "ticks": ""
            },
            "type": "choropleth"
           }
          ],
          "contour": [
           {
            "colorbar": {
             "outlinewidth": 0,
             "ticks": ""
            },
            "colorscale": [
             [
              0,
              "#0d0887"
             ],
             [
              0.1111111111111111,
              "#46039f"
             ],
             [
              0.2222222222222222,
              "#7201a8"
             ],
             [
              0.3333333333333333,
              "#9c179e"
             ],
             [
              0.4444444444444444,
              "#bd3786"
             ],
             [
              0.5555555555555556,
              "#d8576b"
             ],
             [
              0.6666666666666666,
              "#ed7953"
             ],
             [
              0.7777777777777778,
              "#fb9f3a"
             ],
             [
              0.8888888888888888,
              "#fdca26"
             ],
             [
              1,
              "#f0f921"
             ]
            ],
            "type": "contour"
           }
          ],
          "contourcarpet": [
           {
            "colorbar": {
             "outlinewidth": 0,
             "ticks": ""
            },
            "type": "contourcarpet"
           }
          ],
          "heatmap": [
           {
            "colorbar": {
             "outlinewidth": 0,
             "ticks": ""
            },
            "colorscale": [
             [
              0,
              "#0d0887"
             ],
             [
              0.1111111111111111,
              "#46039f"
             ],
             [
              0.2222222222222222,
              "#7201a8"
             ],
             [
              0.3333333333333333,
              "#9c179e"
             ],
             [
              0.4444444444444444,
              "#bd3786"
             ],
             [
              0.5555555555555556,
              "#d8576b"
             ],
             [
              0.6666666666666666,
              "#ed7953"
             ],
             [
              0.7777777777777778,
              "#fb9f3a"
             ],
             [
              0.8888888888888888,
              "#fdca26"
             ],
             [
              1,
              "#f0f921"
             ]
            ],
            "type": "heatmap"
           }
          ],
          "heatmapgl": [
           {
            "colorbar": {
             "outlinewidth": 0,
             "ticks": ""
            },
            "colorscale": [
             [
              0,
              "#0d0887"
             ],
             [
              0.1111111111111111,
              "#46039f"
             ],
             [
              0.2222222222222222,
              "#7201a8"
             ],
             [
              0.3333333333333333,
              "#9c179e"
             ],
             [
              0.4444444444444444,
              "#bd3786"
             ],
             [
              0.5555555555555556,
              "#d8576b"
             ],
             [
              0.6666666666666666,
              "#ed7953"
             ],
             [
              0.7777777777777778,
              "#fb9f3a"
             ],
             [
              0.8888888888888888,
              "#fdca26"
             ],
             [
              1,
              "#f0f921"
             ]
            ],
            "type": "heatmapgl"
           }
          ],
          "histogram": [
           {
            "marker": {
             "pattern": {
              "fillmode": "overlay",
              "size": 10,
              "solidity": 0.2
             }
            },
            "type": "histogram"
           }
          ],
          "histogram2d": [
           {
            "colorbar": {
             "outlinewidth": 0,
             "ticks": ""
            },
            "colorscale": [
             [
              0,
              "#0d0887"
             ],
             [
              0.1111111111111111,
              "#46039f"
             ],
             [
              0.2222222222222222,
              "#7201a8"
             ],
             [
              0.3333333333333333,
              "#9c179e"
             ],
             [
              0.4444444444444444,
              "#bd3786"
             ],
             [
              0.5555555555555556,
              "#d8576b"
             ],
             [
              0.6666666666666666,
              "#ed7953"
             ],
             [
              0.7777777777777778,
              "#fb9f3a"
             ],
             [
              0.8888888888888888,
              "#fdca26"
             ],
             [
              1,
              "#f0f921"
             ]
            ],
            "type": "histogram2d"
           }
          ],
          "histogram2dcontour": [
           {
            "colorbar": {
             "outlinewidth": 0,
             "ticks": ""
            },
            "colorscale": [
             [
              0,
              "#0d0887"
             ],
             [
              0.1111111111111111,
              "#46039f"
             ],
             [
              0.2222222222222222,
              "#7201a8"
             ],
             [
              0.3333333333333333,
              "#9c179e"
             ],
             [
              0.4444444444444444,
              "#bd3786"
             ],
             [
              0.5555555555555556,
              "#d8576b"
             ],
             [
              0.6666666666666666,
              "#ed7953"
             ],
             [
              0.7777777777777778,
              "#fb9f3a"
             ],
             [
              0.8888888888888888,
              "#fdca26"
             ],
             [
              1,
              "#f0f921"
             ]
            ],
            "type": "histogram2dcontour"
           }
          ],
          "mesh3d": [
           {
            "colorbar": {
             "outlinewidth": 0,
             "ticks": ""
            },
            "type": "mesh3d"
           }
          ],
          "parcoords": [
           {
            "line": {
             "colorbar": {
              "outlinewidth": 0,
              "ticks": ""
             }
            },
            "type": "parcoords"
           }
          ],
          "pie": [
           {
            "automargin": true,
            "type": "pie"
           }
          ],
          "scatter": [
           {
            "fillpattern": {
             "fillmode": "overlay",
             "size": 10,
             "solidity": 0.2
            },
            "type": "scatter"
           }
          ],
          "scatter3d": [
           {
            "line": {
             "colorbar": {
              "outlinewidth": 0,
              "ticks": ""
             }
            },
            "marker": {
             "colorbar": {
              "outlinewidth": 0,
              "ticks": ""
             }
            },
            "type": "scatter3d"
           }
          ],
          "scattercarpet": [
           {
            "marker": {
             "colorbar": {
              "outlinewidth": 0,
              "ticks": ""
             }
            },
            "type": "scattercarpet"
           }
          ],
          "scattergeo": [
           {
            "marker": {
             "colorbar": {
              "outlinewidth": 0,
              "ticks": ""
             }
            },
            "type": "scattergeo"
           }
          ],
          "scattergl": [
           {
            "marker": {
             "colorbar": {
              "outlinewidth": 0,
              "ticks": ""
             }
            },
            "type": "scattergl"
           }
          ],
          "scattermapbox": [
           {
            "marker": {
             "colorbar": {
              "outlinewidth": 0,
              "ticks": ""
             }
            },
            "type": "scattermapbox"
           }
          ],
          "scatterpolar": [
           {
            "marker": {
             "colorbar": {
              "outlinewidth": 0,
              "ticks": ""
             }
            },
            "type": "scatterpolar"
           }
          ],
          "scatterpolargl": [
           {
            "marker": {
             "colorbar": {
              "outlinewidth": 0,
              "ticks": ""
             }
            },
            "type": "scatterpolargl"
           }
          ],
          "scatterternary": [
           {
            "marker": {
             "colorbar": {
              "outlinewidth": 0,
              "ticks": ""
             }
            },
            "type": "scatterternary"
           }
          ],
          "surface": [
           {
            "colorbar": {
             "outlinewidth": 0,
             "ticks": ""
            },
            "colorscale": [
             [
              0,
              "#0d0887"
             ],
             [
              0.1111111111111111,
              "#46039f"
             ],
             [
              0.2222222222222222,
              "#7201a8"
             ],
             [
              0.3333333333333333,
              "#9c179e"
             ],
             [
              0.4444444444444444,
              "#bd3786"
             ],
             [
              0.5555555555555556,
              "#d8576b"
             ],
             [
              0.6666666666666666,
              "#ed7953"
             ],
             [
              0.7777777777777778,
              "#fb9f3a"
             ],
             [
              0.8888888888888888,
              "#fdca26"
             ],
             [
              1,
              "#f0f921"
             ]
            ],
            "type": "surface"
           }
          ],
          "table": [
           {
            "cells": {
             "fill": {
              "color": "#EBF0F8"
             },
             "line": {
              "color": "white"
             }
            },
            "header": {
             "fill": {
              "color": "#C8D4E3"
             },
             "line": {
              "color": "white"
             }
            },
            "type": "table"
           }
          ]
         },
         "layout": {
          "annotationdefaults": {
           "arrowcolor": "#2a3f5f",
           "arrowhead": 0,
           "arrowwidth": 1
          },
          "autotypenumbers": "strict",
          "coloraxis": {
           "colorbar": {
            "outlinewidth": 0,
            "ticks": ""
           }
          },
          "colorscale": {
           "diverging": [
            [
             0,
             "#8e0152"
            ],
            [
             0.1,
             "#c51b7d"
            ],
            [
             0.2,
             "#de77ae"
            ],
            [
             0.3,
             "#f1b6da"
            ],
            [
             0.4,
             "#fde0ef"
            ],
            [
             0.5,
             "#f7f7f7"
            ],
            [
             0.6,
             "#e6f5d0"
            ],
            [
             0.7,
             "#b8e186"
            ],
            [
             0.8,
             "#7fbc41"
            ],
            [
             0.9,
             "#4d9221"
            ],
            [
             1,
             "#276419"
            ]
           ],
           "sequential": [
            [
             0,
             "#0d0887"
            ],
            [
             0.1111111111111111,
             "#46039f"
            ],
            [
             0.2222222222222222,
             "#7201a8"
            ],
            [
             0.3333333333333333,
             "#9c179e"
            ],
            [
             0.4444444444444444,
             "#bd3786"
            ],
            [
             0.5555555555555556,
             "#d8576b"
            ],
            [
             0.6666666666666666,
             "#ed7953"
            ],
            [
             0.7777777777777778,
             "#fb9f3a"
            ],
            [
             0.8888888888888888,
             "#fdca26"
            ],
            [
             1,
             "#f0f921"
            ]
           ],
           "sequentialminus": [
            [
             0,
             "#0d0887"
            ],
            [
             0.1111111111111111,
             "#46039f"
            ],
            [
             0.2222222222222222,
             "#7201a8"
            ],
            [
             0.3333333333333333,
             "#9c179e"
            ],
            [
             0.4444444444444444,
             "#bd3786"
            ],
            [
             0.5555555555555556,
             "#d8576b"
            ],
            [
             0.6666666666666666,
             "#ed7953"
            ],
            [
             0.7777777777777778,
             "#fb9f3a"
            ],
            [
             0.8888888888888888,
             "#fdca26"
            ],
            [
             1,
             "#f0f921"
            ]
           ]
          },
          "colorway": [
           "#636efa",
           "#EF553B",
           "#00cc96",
           "#ab63fa",
           "#FFA15A",
           "#19d3f3",
           "#FF6692",
           "#B6E880",
           "#FF97FF",
           "#FECB52"
          ],
          "font": {
           "color": "#2a3f5f"
          },
          "geo": {
           "bgcolor": "white",
           "lakecolor": "white",
           "landcolor": "#E5ECF6",
           "showlakes": true,
           "showland": true,
           "subunitcolor": "white"
          },
          "hoverlabel": {
           "align": "left"
          },
          "hovermode": "closest",
          "mapbox": {
           "style": "light"
          },
          "paper_bgcolor": "white",
          "plot_bgcolor": "#E5ECF6",
          "polar": {
           "angularaxis": {
            "gridcolor": "white",
            "linecolor": "white",
            "ticks": ""
           },
           "bgcolor": "#E5ECF6",
           "radialaxis": {
            "gridcolor": "white",
            "linecolor": "white",
            "ticks": ""
           }
          },
          "scene": {
           "xaxis": {
            "backgroundcolor": "#E5ECF6",
            "gridcolor": "white",
            "gridwidth": 2,
            "linecolor": "white",
            "showbackground": true,
            "ticks": "",
            "zerolinecolor": "white"
           },
           "yaxis": {
            "backgroundcolor": "#E5ECF6",
            "gridcolor": "white",
            "gridwidth": 2,
            "linecolor": "white",
            "showbackground": true,
            "ticks": "",
            "zerolinecolor": "white"
           },
           "zaxis": {
            "backgroundcolor": "#E5ECF6",
            "gridcolor": "white",
            "gridwidth": 2,
            "linecolor": "white",
            "showbackground": true,
            "ticks": "",
            "zerolinecolor": "white"
           }
          },
          "shapedefaults": {
           "line": {
            "color": "#2a3f5f"
           }
          },
          "ternary": {
           "aaxis": {
            "gridcolor": "white",
            "linecolor": "white",
            "ticks": ""
           },
           "baxis": {
            "gridcolor": "white",
            "linecolor": "white",
            "ticks": ""
           },
           "bgcolor": "#E5ECF6",
           "caxis": {
            "gridcolor": "white",
            "linecolor": "white",
            "ticks": ""
           }
          },
          "title": {
           "x": 0.05
          },
          "xaxis": {
           "automargin": true,
           "gridcolor": "white",
           "linecolor": "white",
           "ticks": "",
           "title": {
            "standoff": 15
           },
           "zerolinecolor": "white",
           "zerolinewidth": 2
          },
          "yaxis": {
           "automargin": true,
           "gridcolor": "white",
           "linecolor": "white",
           "ticks": "",
           "title": {
            "standoff": 15
           },
           "zerolinecolor": "white",
           "zerolinewidth": 2
          }
         }
        },
        "width": 1000,
        "xaxis": {
         "anchor": "y",
         "constrain": "domain",
         "domain": [
          0,
          1
         ],
         "scaleanchor": "y"
        },
        "yaxis": {
         "anchor": "x",
         "autorange": "reversed",
         "constrain": "domain",
         "domain": [
          0,
          1
         ]
        }
       }
      }
     },
     "metadata": {},
     "output_type": "display_data"
    }
   ],
   "source": [
    "target_cols = ohe.columns[1::2]\n",
    "rolls_cross_df = pd.DataFrame(columns=target_cols, index=target_cols)\n",
    "\n",
    "combs = list(combinations(target_cols, 2))\n",
    "\n",
    "for comb in combs:\n",
    "    x,y = int(comb[0].replace('k', ''))-1, int(comb[1].replace('k', ''))-1\n",
    "    rolls_cross_df.iloc[x,y] = ohe[(ohe[comb[0]] == 1) & (ohe[comb[1]] == 1)].shape[0]\n",
    "    rolls_cross_df.iloc[y,x] = rolls_cross_df.iloc[x,y]\n",
    "\n",
    "for col in target_cols:\n",
    "    x = int(col.replace('k', ''))-1\n",
    "    rolls_cross_df.iloc[x, x] = ohe[col].sum()\n",
    "\n",
    "px.imshow(rolls_cross_df, text_auto=True, width=1000, height=1000)\n",
    "#tüksek katılım oranlı insanlar tasarım odaklı düşünme eğitimine ve diğer eğitimlere katılmışlar."
   ]
  },
  {
   "cell_type": "code",
   "execution_count": 8,
   "metadata": {},
   "outputs": [
    {
     "data": {
      "text/plain": [
       "[(1, 'Hikaye Anlatıcılığı 101'),\n",
       " (2, 'Finans 101'),\n",
       " (3, 'Büyük Veriye Giriş 101'),\n",
       " (4, 'Proje Döngüsü Yönetimi 101'),\n",
       " (5, 'Girişimcilik 101'),\n",
       " (6, 'Arduino 101'),\n",
       " (7, 'İşletim Sistemleri 101'),\n",
       " (8, 'IOT 101'),\n",
       " (9, 'Zihin Haritalama 101'),\n",
       " (10, 'Blockchain 101'),\n",
       " (11, 'Siber Güvenlik 101'),\n",
       " (12, 'Eleştirel Düşünce 101'),\n",
       " (13, 'Yapay Zeka 101'),\n",
       " (14, 'Python 101'),\n",
       " (15, 'İnovasyon 101'),\n",
       " (16, 'Machine Learning 101'),\n",
       " (17, 'Dijital Şehir 101'),\n",
       " (18, 'Dijital Dünyada Bilinç 101'),\n",
       " (19, 'Tasarım Odaklı Düşünce 101'),\n",
       " (20, 'Araştırma Yöntemleri 101'),\n",
       " (21, 'Tasarım İlkeleri 101'),\n",
       " (22, 'Tasarım 101'),\n",
       " (23, 'Metaverse 101'),\n",
       " (24, 'Programlama ve Algoritma 101')]"
      ]
     },
     "execution_count": 8,
     "metadata": {},
     "output_type": "execute_result"
    }
   ],
   "source": [
    "list(enumerate(events['eğitim'], start=1))"
   ]
  },
  {
   "cell_type": "markdown",
   "metadata": {},
   "source": [
    "# Ratio"
   ]
  },
  {
   "cell_type": "code",
   "execution_count": 9,
   "metadata": {},
   "outputs": [],
   "source": [
    "pre_ratio = pd.DataFrame(columns=range(24), index=range(24))\n",
    "\n",
    "for i in range(24):\n",
    "    for j in range(24):\n",
    "        pre_ratio.iloc[i,j] = [rolls_cross_df.iloc[i,j], appeals_cross_df.iloc[i,j]]"
   ]
  },
  {
   "cell_type": "code",
   "execution_count": 10,
   "metadata": {},
   "outputs": [
    {
     "data": {
      "application/vnd.plotly.v1+json": {
       "config": {
        "plotlyServerURL": "https://plot.ly"
       },
       "data": [
        {
         "coloraxis": "coloraxis",
         "hovertemplate": "x: %{x}<br>y: %{y}<br>color: %{z}<extra></extra>",
         "name": "0",
         "texttemplate": "%{z}",
         "type": "heatmap",
         "x": [
          "r1",
          "r2",
          "r3",
          "r4",
          "r5",
          "r6",
          "r7",
          "r8",
          "r9",
          "r10",
          "r11",
          "r12",
          "r13",
          "r14",
          "r15",
          "r16",
          "r17",
          "r18",
          "r19",
          "r20",
          "r21",
          "r22",
          "r23",
          "r24"
         ],
         "xaxis": "x",
         "y": [
          "r1",
          "r2",
          "r3",
          "r4",
          "r5",
          "r6",
          "r7",
          "r8",
          "r9",
          "r10",
          "r11",
          "r12",
          "r13",
          "r14",
          "r15",
          "r16",
          "r17",
          "r18",
          "r19",
          "r20",
          "r21",
          "r22",
          "r23",
          "r24"
         ],
         "yaxis": "y",
         "z": [
          [
           166,
           0,
           0,
           100,
           100,
           100,
           0,
           100,
           100,
           0,
           100,
           0,
           100,
           100,
           100,
           100,
           100,
           100,
           100,
           0,
           100,
           0,
           0,
           0
          ],
          [
           0,
           100,
           50,
           66,
           100,
           0,
           0,
           0,
           0,
           0,
           100,
           0,
           0,
           0,
           0,
           0,
           0,
           0,
           0,
           0,
           0,
           0,
           0,
           0
          ],
          [
           0,
           50,
           66,
           33,
           0,
           0,
           50,
           0,
           0,
           0,
           100,
           0,
           0,
           0,
           0,
           0,
           0,
           0,
           0,
           0,
           0,
           0,
           0,
           0
          ],
          [
           100,
           66,
           33,
           100,
           100,
           100,
           0,
           50,
           66,
           0,
           100,
           0,
           50,
           100,
           100,
           200,
           100,
           50,
           100,
           0,
           0,
           0,
           0,
           0
          ],
          [
           100,
           100,
           0,
           100,
           81,
           100,
           0,
           100,
           50,
           0,
           100,
           0,
           33,
           100,
           50,
           100,
           100,
           50,
           50,
           0,
           0,
           0,
           0,
           0
          ],
          [
           100,
           0,
           0,
           100,
           100,
           100,
           0,
           100,
           100,
           0,
           0,
           0,
           100,
           100,
           100,
           100,
           100,
           100,
           100,
           0,
           0,
           0,
           0,
           0
          ],
          [
           0,
           0,
           50,
           0,
           0,
           0,
           80,
           33,
           50,
           0,
           0,
           0,
           0,
           0,
           0,
           0,
           0,
           0,
           0,
           0,
           0,
           0,
           0,
           0
          ],
          [
           100,
           0,
           0,
           50,
           100,
           100,
           33,
           66,
           66,
           0,
           33,
           100,
           50,
           25,
           100,
           100,
           200,
           100,
           100,
           0,
           0,
           0,
           0,
           0
          ],
          [
           100,
           0,
           0,
           66,
           50,
           100,
           50,
           66,
           88,
           0,
           100,
           66,
           66,
           66,
           66,
           50,
           100,
           66,
           133,
           50,
           50,
           0,
           0,
           0
          ],
          [
           0,
           0,
           0,
           0,
           0,
           0,
           0,
           0,
           0,
           28,
           25,
           0,
           0,
           25,
           0,
           0,
           0,
           0,
           0,
           0,
           0,
           0,
           0,
           0
          ],
          [
           100,
           100,
           100,
           100,
           100,
           0,
           0,
           33,
           100,
           25,
           125,
           150,
           0,
           28,
           75,
           25,
           100,
           50,
           100,
           50,
           100,
           0,
           0,
           0
          ],
          [
           0,
           0,
           0,
           0,
           0,
           0,
           0,
           100,
           66,
           0,
           150,
           75,
           0,
           50,
           33,
           0,
           50,
           33,
           50,
           33,
           50,
           0,
           0,
           0
          ],
          [
           100,
           0,
           0,
           50,
           33,
           100,
           0,
           50,
           66,
           0,
           0,
           0,
           36,
           25,
           33,
           28,
           25,
           14,
           33,
           16,
           0,
           0,
           0,
           0
          ],
          [
           100,
           0,
           0,
           100,
           100,
           100,
           0,
           25,
           66,
           25,
           28,
           50,
           25,
           50,
           42,
           42,
           25,
           20,
           33,
           40,
           33,
           0,
           0,
           0
          ],
          [
           100,
           0,
           0,
           100,
           50,
           100,
           0,
           100,
           66,
           0,
           75,
           33,
           33,
           42,
           75,
           40,
           75,
           60,
           50,
           60,
           66,
           0,
           0,
           0
          ],
          [
           100,
           0,
           0,
           200,
           100,
           100,
           0,
           100,
           50,
           0,
           25,
           0,
           28,
           42,
           40,
           42,
           25,
           16,
           12,
           16,
           33,
           0,
           0,
           0
          ],
          [
           100,
           0,
           0,
           100,
           100,
           100,
           0,
           200,
           100,
           0,
           100,
           50,
           25,
           25,
           75,
           25,
           150,
           150,
           100,
           25,
           33,
           0,
           0,
           0
          ],
          [
           100,
           0,
           0,
           50,
           50,
           100,
           0,
           100,
           66,
           0,
           50,
           33,
           14,
           20,
           60,
           16,
           150,
           60,
           57,
           14,
           33,
           0,
           0,
           0
          ],
          [
           100,
           0,
           0,
           100,
           50,
           100,
           0,
           100,
           133,
           0,
           100,
           50,
           33,
           33,
           50,
           12,
           100,
           57,
           69,
           28,
           66,
           0,
           0,
           0
          ],
          [
           0,
           0,
           0,
           0,
           0,
           0,
           0,
           0,
           50,
           0,
           50,
           33,
           16,
           40,
           60,
           16,
           25,
           14,
           28,
           57,
           66,
           0,
           0,
           0
          ],
          [
           100,
           0,
           0,
           0,
           0,
           0,
           0,
           0,
           50,
           0,
           100,
           50,
           0,
           33,
           66,
           33,
           33,
           33,
           66,
           66,
           200,
           0,
           0,
           0
          ],
          [
           0,
           0,
           0,
           0,
           0,
           0,
           0,
           0,
           0,
           0,
           0,
           0,
           0,
           0,
           0,
           0,
           0,
           0,
           0,
           0,
           0,
           0,
           0,
           0
          ],
          [
           0,
           0,
           0,
           0,
           0,
           0,
           0,
           0,
           0,
           0,
           0,
           0,
           0,
           0,
           0,
           0,
           0,
           0,
           0,
           0,
           0,
           0,
           0,
           0
          ],
          [
           0,
           0,
           0,
           0,
           0,
           0,
           0,
           0,
           0,
           0,
           0,
           0,
           0,
           0,
           0,
           0,
           0,
           0,
           0,
           0,
           0,
           0,
           0,
           0
          ]
         ]
        }
       ],
       "layout": {
        "coloraxis": {
         "colorscale": [
          [
           0,
           "#0d0887"
          ],
          [
           0.1111111111111111,
           "#46039f"
          ],
          [
           0.2222222222222222,
           "#7201a8"
          ],
          [
           0.3333333333333333,
           "#9c179e"
          ],
          [
           0.4444444444444444,
           "#bd3786"
          ],
          [
           0.5555555555555556,
           "#d8576b"
          ],
          [
           0.6666666666666666,
           "#ed7953"
          ],
          [
           0.7777777777777778,
           "#fb9f3a"
          ],
          [
           0.8888888888888888,
           "#fdca26"
          ],
          [
           1,
           "#f0f921"
          ]
         ]
        },
        "height": 1000,
        "margin": {
         "t": 60
        },
        "template": {
         "data": {
          "bar": [
           {
            "error_x": {
             "color": "#2a3f5f"
            },
            "error_y": {
             "color": "#2a3f5f"
            },
            "marker": {
             "line": {
              "color": "#E5ECF6",
              "width": 0.5
             },
             "pattern": {
              "fillmode": "overlay",
              "size": 10,
              "solidity": 0.2
             }
            },
            "type": "bar"
           }
          ],
          "barpolar": [
           {
            "marker": {
             "line": {
              "color": "#E5ECF6",
              "width": 0.5
             },
             "pattern": {
              "fillmode": "overlay",
              "size": 10,
              "solidity": 0.2
             }
            },
            "type": "barpolar"
           }
          ],
          "carpet": [
           {
            "aaxis": {
             "endlinecolor": "#2a3f5f",
             "gridcolor": "white",
             "linecolor": "white",
             "minorgridcolor": "white",
             "startlinecolor": "#2a3f5f"
            },
            "baxis": {
             "endlinecolor": "#2a3f5f",
             "gridcolor": "white",
             "linecolor": "white",
             "minorgridcolor": "white",
             "startlinecolor": "#2a3f5f"
            },
            "type": "carpet"
           }
          ],
          "choropleth": [
           {
            "colorbar": {
             "outlinewidth": 0,
             "ticks": ""
            },
            "type": "choropleth"
           }
          ],
          "contour": [
           {
            "colorbar": {
             "outlinewidth": 0,
             "ticks": ""
            },
            "colorscale": [
             [
              0,
              "#0d0887"
             ],
             [
              0.1111111111111111,
              "#46039f"
             ],
             [
              0.2222222222222222,
              "#7201a8"
             ],
             [
              0.3333333333333333,
              "#9c179e"
             ],
             [
              0.4444444444444444,
              "#bd3786"
             ],
             [
              0.5555555555555556,
              "#d8576b"
             ],
             [
              0.6666666666666666,
              "#ed7953"
             ],
             [
              0.7777777777777778,
              "#fb9f3a"
             ],
             [
              0.8888888888888888,
              "#fdca26"
             ],
             [
              1,
              "#f0f921"
             ]
            ],
            "type": "contour"
           }
          ],
          "contourcarpet": [
           {
            "colorbar": {
             "outlinewidth": 0,
             "ticks": ""
            },
            "type": "contourcarpet"
           }
          ],
          "heatmap": [
           {
            "colorbar": {
             "outlinewidth": 0,
             "ticks": ""
            },
            "colorscale": [
             [
              0,
              "#0d0887"
             ],
             [
              0.1111111111111111,
              "#46039f"
             ],
             [
              0.2222222222222222,
              "#7201a8"
             ],
             [
              0.3333333333333333,
              "#9c179e"
             ],
             [
              0.4444444444444444,
              "#bd3786"
             ],
             [
              0.5555555555555556,
              "#d8576b"
             ],
             [
              0.6666666666666666,
              "#ed7953"
             ],
             [
              0.7777777777777778,
              "#fb9f3a"
             ],
             [
              0.8888888888888888,
              "#fdca26"
             ],
             [
              1,
              "#f0f921"
             ]
            ],
            "type": "heatmap"
           }
          ],
          "heatmapgl": [
           {
            "colorbar": {
             "outlinewidth": 0,
             "ticks": ""
            },
            "colorscale": [
             [
              0,
              "#0d0887"
             ],
             [
              0.1111111111111111,
              "#46039f"
             ],
             [
              0.2222222222222222,
              "#7201a8"
             ],
             [
              0.3333333333333333,
              "#9c179e"
             ],
             [
              0.4444444444444444,
              "#bd3786"
             ],
             [
              0.5555555555555556,
              "#d8576b"
             ],
             [
              0.6666666666666666,
              "#ed7953"
             ],
             [
              0.7777777777777778,
              "#fb9f3a"
             ],
             [
              0.8888888888888888,
              "#fdca26"
             ],
             [
              1,
              "#f0f921"
             ]
            ],
            "type": "heatmapgl"
           }
          ],
          "histogram": [
           {
            "marker": {
             "pattern": {
              "fillmode": "overlay",
              "size": 10,
              "solidity": 0.2
             }
            },
            "type": "histogram"
           }
          ],
          "histogram2d": [
           {
            "colorbar": {
             "outlinewidth": 0,
             "ticks": ""
            },
            "colorscale": [
             [
              0,
              "#0d0887"
             ],
             [
              0.1111111111111111,
              "#46039f"
             ],
             [
              0.2222222222222222,
              "#7201a8"
             ],
             [
              0.3333333333333333,
              "#9c179e"
             ],
             [
              0.4444444444444444,
              "#bd3786"
             ],
             [
              0.5555555555555556,
              "#d8576b"
             ],
             [
              0.6666666666666666,
              "#ed7953"
             ],
             [
              0.7777777777777778,
              "#fb9f3a"
             ],
             [
              0.8888888888888888,
              "#fdca26"
             ],
             [
              1,
              "#f0f921"
             ]
            ],
            "type": "histogram2d"
           }
          ],
          "histogram2dcontour": [
           {
            "colorbar": {
             "outlinewidth": 0,
             "ticks": ""
            },
            "colorscale": [
             [
              0,
              "#0d0887"
             ],
             [
              0.1111111111111111,
              "#46039f"
             ],
             [
              0.2222222222222222,
              "#7201a8"
             ],
             [
              0.3333333333333333,
              "#9c179e"
             ],
             [
              0.4444444444444444,
              "#bd3786"
             ],
             [
              0.5555555555555556,
              "#d8576b"
             ],
             [
              0.6666666666666666,
              "#ed7953"
             ],
             [
              0.7777777777777778,
              "#fb9f3a"
             ],
             [
              0.8888888888888888,
              "#fdca26"
             ],
             [
              1,
              "#f0f921"
             ]
            ],
            "type": "histogram2dcontour"
           }
          ],
          "mesh3d": [
           {
            "colorbar": {
             "outlinewidth": 0,
             "ticks": ""
            },
            "type": "mesh3d"
           }
          ],
          "parcoords": [
           {
            "line": {
             "colorbar": {
              "outlinewidth": 0,
              "ticks": ""
             }
            },
            "type": "parcoords"
           }
          ],
          "pie": [
           {
            "automargin": true,
            "type": "pie"
           }
          ],
          "scatter": [
           {
            "fillpattern": {
             "fillmode": "overlay",
             "size": 10,
             "solidity": 0.2
            },
            "type": "scatter"
           }
          ],
          "scatter3d": [
           {
            "line": {
             "colorbar": {
              "outlinewidth": 0,
              "ticks": ""
             }
            },
            "marker": {
             "colorbar": {
              "outlinewidth": 0,
              "ticks": ""
             }
            },
            "type": "scatter3d"
           }
          ],
          "scattercarpet": [
           {
            "marker": {
             "colorbar": {
              "outlinewidth": 0,
              "ticks": ""
             }
            },
            "type": "scattercarpet"
           }
          ],
          "scattergeo": [
           {
            "marker": {
             "colorbar": {
              "outlinewidth": 0,
              "ticks": ""
             }
            },
            "type": "scattergeo"
           }
          ],
          "scattergl": [
           {
            "marker": {
             "colorbar": {
              "outlinewidth": 0,
              "ticks": ""
             }
            },
            "type": "scattergl"
           }
          ],
          "scattermapbox": [
           {
            "marker": {
             "colorbar": {
              "outlinewidth": 0,
              "ticks": ""
             }
            },
            "type": "scattermapbox"
           }
          ],
          "scatterpolar": [
           {
            "marker": {
             "colorbar": {
              "outlinewidth": 0,
              "ticks": ""
             }
            },
            "type": "scatterpolar"
           }
          ],
          "scatterpolargl": [
           {
            "marker": {
             "colorbar": {
              "outlinewidth": 0,
              "ticks": ""
             }
            },
            "type": "scatterpolargl"
           }
          ],
          "scatterternary": [
           {
            "marker": {
             "colorbar": {
              "outlinewidth": 0,
              "ticks": ""
             }
            },
            "type": "scatterternary"
           }
          ],
          "surface": [
           {
            "colorbar": {
             "outlinewidth": 0,
             "ticks": ""
            },
            "colorscale": [
             [
              0,
              "#0d0887"
             ],
             [
              0.1111111111111111,
              "#46039f"
             ],
             [
              0.2222222222222222,
              "#7201a8"
             ],
             [
              0.3333333333333333,
              "#9c179e"
             ],
             [
              0.4444444444444444,
              "#bd3786"
             ],
             [
              0.5555555555555556,
              "#d8576b"
             ],
             [
              0.6666666666666666,
              "#ed7953"
             ],
             [
              0.7777777777777778,
              "#fb9f3a"
             ],
             [
              0.8888888888888888,
              "#fdca26"
             ],
             [
              1,
              "#f0f921"
             ]
            ],
            "type": "surface"
           }
          ],
          "table": [
           {
            "cells": {
             "fill": {
              "color": "#EBF0F8"
             },
             "line": {
              "color": "white"
             }
            },
            "header": {
             "fill": {
              "color": "#C8D4E3"
             },
             "line": {
              "color": "white"
             }
            },
            "type": "table"
           }
          ]
         },
         "layout": {
          "annotationdefaults": {
           "arrowcolor": "#2a3f5f",
           "arrowhead": 0,
           "arrowwidth": 1
          },
          "autotypenumbers": "strict",
          "coloraxis": {
           "colorbar": {
            "outlinewidth": 0,
            "ticks": ""
           }
          },
          "colorscale": {
           "diverging": [
            [
             0,
             "#8e0152"
            ],
            [
             0.1,
             "#c51b7d"
            ],
            [
             0.2,
             "#de77ae"
            ],
            [
             0.3,
             "#f1b6da"
            ],
            [
             0.4,
             "#fde0ef"
            ],
            [
             0.5,
             "#f7f7f7"
            ],
            [
             0.6,
             "#e6f5d0"
            ],
            [
             0.7,
             "#b8e186"
            ],
            [
             0.8,
             "#7fbc41"
            ],
            [
             0.9,
             "#4d9221"
            ],
            [
             1,
             "#276419"
            ]
           ],
           "sequential": [
            [
             0,
             "#0d0887"
            ],
            [
             0.1111111111111111,
             "#46039f"
            ],
            [
             0.2222222222222222,
             "#7201a8"
            ],
            [
             0.3333333333333333,
             "#9c179e"
            ],
            [
             0.4444444444444444,
             "#bd3786"
            ],
            [
             0.5555555555555556,
             "#d8576b"
            ],
            [
             0.6666666666666666,
             "#ed7953"
            ],
            [
             0.7777777777777778,
             "#fb9f3a"
            ],
            [
             0.8888888888888888,
             "#fdca26"
            ],
            [
             1,
             "#f0f921"
            ]
           ],
           "sequentialminus": [
            [
             0,
             "#0d0887"
            ],
            [
             0.1111111111111111,
             "#46039f"
            ],
            [
             0.2222222222222222,
             "#7201a8"
            ],
            [
             0.3333333333333333,
             "#9c179e"
            ],
            [
             0.4444444444444444,
             "#bd3786"
            ],
            [
             0.5555555555555556,
             "#d8576b"
            ],
            [
             0.6666666666666666,
             "#ed7953"
            ],
            [
             0.7777777777777778,
             "#fb9f3a"
            ],
            [
             0.8888888888888888,
             "#fdca26"
            ],
            [
             1,
             "#f0f921"
            ]
           ]
          },
          "colorway": [
           "#636efa",
           "#EF553B",
           "#00cc96",
           "#ab63fa",
           "#FFA15A",
           "#19d3f3",
           "#FF6692",
           "#B6E880",
           "#FF97FF",
           "#FECB52"
          ],
          "font": {
           "color": "#2a3f5f"
          },
          "geo": {
           "bgcolor": "white",
           "lakecolor": "white",
           "landcolor": "#E5ECF6",
           "showlakes": true,
           "showland": true,
           "subunitcolor": "white"
          },
          "hoverlabel": {
           "align": "left"
          },
          "hovermode": "closest",
          "mapbox": {
           "style": "light"
          },
          "paper_bgcolor": "white",
          "plot_bgcolor": "#E5ECF6",
          "polar": {
           "angularaxis": {
            "gridcolor": "white",
            "linecolor": "white",
            "ticks": ""
           },
           "bgcolor": "#E5ECF6",
           "radialaxis": {
            "gridcolor": "white",
            "linecolor": "white",
            "ticks": ""
           }
          },
          "scene": {
           "xaxis": {
            "backgroundcolor": "#E5ECF6",
            "gridcolor": "white",
            "gridwidth": 2,
            "linecolor": "white",
            "showbackground": true,
            "ticks": "",
            "zerolinecolor": "white"
           },
           "yaxis": {
            "backgroundcolor": "#E5ECF6",
            "gridcolor": "white",
            "gridwidth": 2,
            "linecolor": "white",
            "showbackground": true,
            "ticks": "",
            "zerolinecolor": "white"
           },
           "zaxis": {
            "backgroundcolor": "#E5ECF6",
            "gridcolor": "white",
            "gridwidth": 2,
            "linecolor": "white",
            "showbackground": true,
            "ticks": "",
            "zerolinecolor": "white"
           }
          },
          "shapedefaults": {
           "line": {
            "color": "#2a3f5f"
           }
          },
          "ternary": {
           "aaxis": {
            "gridcolor": "white",
            "linecolor": "white",
            "ticks": ""
           },
           "baxis": {
            "gridcolor": "white",
            "linecolor": "white",
            "ticks": ""
           },
           "bgcolor": "#E5ECF6",
           "caxis": {
            "gridcolor": "white",
            "linecolor": "white",
            "ticks": ""
           }
          },
          "title": {
           "x": 0.05
          },
          "xaxis": {
           "automargin": true,
           "gridcolor": "white",
           "linecolor": "white",
           "ticks": "",
           "title": {
            "standoff": 15
           },
           "zerolinecolor": "white",
           "zerolinewidth": 2
          },
          "yaxis": {
           "automargin": true,
           "gridcolor": "white",
           "linecolor": "white",
           "ticks": "",
           "title": {
            "standoff": 15
           },
           "zerolinecolor": "white",
           "zerolinewidth": 2
          }
         }
        },
        "width": 1000,
        "xaxis": {
         "anchor": "y",
         "constrain": "domain",
         "domain": [
          0,
          1
         ],
         "scaleanchor": "y"
        },
        "yaxis": {
         "anchor": "x",
         "autorange": "reversed",
         "constrain": "domain",
         "domain": [
          0,
          1
         ]
        }
       }
      }
     },
     "metadata": {},
     "output_type": "display_data"
    }
   ],
   "source": [
    "perc_ratio = pd.DataFrame(columns=range(24), index=range(24))\n",
    "for i in range(24):\n",
    "    for j in range(24):\n",
    "        k, b = pre_ratio.iloc[i,j]\n",
    "        perc_ratio.iloc[i,j] = k/b\n",
    "\n",
    "perc_ratio.columns, perc_ratio.index = list(map(lambda x: f'r{x}', list(range(1,25)))), list(map(lambda x: f'r{x}', list(range(1,25))))\n",
    "query_perc_ratio=(perc_ratio).astype(float) * 100\n",
    "\n",
    "px.imshow(query_perc_ratio.astype(int), text_auto=True, width=1000, height=1000)"
   ]
  },
  {
   "cell_type": "markdown",
   "metadata": {},
   "source": [
    "# Get All"
   ]
  },
  {
   "cell_type": "code",
   "execution_count": 11,
   "metadata": {},
   "outputs": [],
   "source": [
    "combs = list(combinations(query_perc_ratio.columns, 2))\n",
    "\n",
    "e1, e2, ratio = list(),list(),list()\n",
    "for comb in combs:\n",
    "    x,y = int(comb[0].replace('r', ''))-1, int(comb[1].replace('r', ''))-1\n",
    "    e1.append(events_list[x])\n",
    "    e2.append(events_list[y])\n",
    "    ratio.append(query_perc_ratio.iloc[x,y])\n",
    "\n",
    "ratio_comb_df = pd.DataFrame()\n",
    "for col, serie in zip(['ders1', 'ders2', 'oran'], [e1, e2, ratio]):\n",
    "    ratio_comb_df[col] = serie"
   ]
  },
  {
   "cell_type": "code",
   "execution_count": 12,
   "metadata": {},
   "outputs": [],
   "source": [
    "combs = list(combinations(rolls_cross_df.columns, 2))\n",
    "\n",
    "e1, e2, rolls = list(),list(),list()\n",
    "for comb in combs:\n",
    "    x,y = int(comb[0].replace('k', ''))-1, int(comb[1].replace('k', ''))-1\n",
    "    e1.append(events_list[x])\n",
    "    e2.append(events_list[y])\n",
    "    rolls.append(rolls_cross_df.iloc[x,y])\n",
    "\n",
    "roll_comb_df = pd.DataFrame()\n",
    "for col, serie in zip(['ders1', 'ders2', 'katılım'], [e1, e2, rolls]):\n",
    "    roll_comb_df[col] = serie"
   ]
  },
  {
   "cell_type": "markdown",
   "metadata": {},
   "source": [
    "## Freq"
   ]
  },
  {
   "cell_type": "code",
   "execution_count": 13,
   "metadata": {},
   "outputs": [],
   "source": [
    "ratio_comb_df['freq'] = float('NaN')\n",
    "lower_limit, upper_limit = list(range(0,91,10)), list(range(10,101,10))\n",
    "freq = list(range(276))\n",
    "\n",
    "for lower, upper in zip(lower_limit, upper_limit):\n",
    "    index = ratio_comb_df[(ratio_comb_df['oran'] >= lower) & (ratio_comb_df['oran'] < upper) & (ratio_comb_df['oran'] < 100)].index\n",
    "\n",
    "    for i in index:\n",
    "        freq[i] = f'[{lower}, {upper})'\n",
    "\n",
    "ratio_comb_df['freq'] = freq\n",
    "\n",
    "events_kw = events.copy()\n",
    "events_kw.index = events_kw['eğitim']\n",
    "events_kw=events_kw.T"
   ]
  },
  {
   "cell_type": "markdown",
   "metadata": {},
   "source": [
    "## Get Other Configs"
   ]
  },
  {
   "cell_type": "code",
   "execution_count": 14,
   "metadata": {},
   "outputs": [],
   "source": [
    "other_configs = list(map(lambda x: list(), range(6)))\n",
    "\n",
    "for d1,d2 in zip(ratio_comb_df['ders1'], ratio_comb_df['ders2']):\n",
    "    d1, d2 = events_kw[d1], events_kw[d2]\n",
    "    # day\n",
    "    other_configs[0].append(d1[1])\n",
    "    other_configs[1].append(d2[1])\n",
    "\n",
    "    # hour\n",
    "    other_configs[2].append(d1[3])\n",
    "    other_configs[3].append(d2[3])\n",
    "\n",
    "    # duration\n",
    "    other_configs[4].append(d1[5])\n",
    "    other_configs[5].append(d2[5])\n",
    "\n",
    "\n",
    "other_configs_df = pd.DataFrame(other_configs).T\n",
    "other_configs_df.columns = ['gün1', 'gün2', 'saat1', 'saat2', 'süre1', 'süre2']\n",
    "\n",
    "ratio_comb_df[other_configs_df.columns] = other_configs_df\n",
    "roll_comb_df[other_configs_df.columns] = other_configs_df"
   ]
  },
  {
   "cell_type": "markdown",
   "metadata": {},
   "source": [
    "# Group By"
   ]
  },
  {
   "cell_type": "code",
   "execution_count": 15,
   "metadata": {},
   "outputs": [],
   "source": [
    "day_equals = ratio_comb_df['gün1'] == ratio_comb_df['gün2']\n",
    "hour_equals = ratio_comb_df['saat1'] == ratio_comb_df['saat2']\n",
    "duration_equals = ratio_comb_df['süre1'] == ratio_comb_df['süre2']\n",
    "\n",
    "groupby_df = ratio_comb_df[day_equals|hour_equals|duration_equals]"
   ]
  },
  {
   "cell_type": "code",
   "execution_count": 16,
   "metadata": {},
   "outputs": [],
   "source": [
    "groups = ['freq', 'gün1', 'gün2', 'saat1', 'saat2', 'süre1', 'süre2']\n",
    "\n",
    "combs = list(map(lambda x : (x,), groups))\n",
    "for i in range(2, len(groups)+1):\n",
    "    combs.extend(combinations(groups, i))\n",
    "\n",
    "groupby = dict()\n",
    "for comb in combs:\n",
    "    key = ' '.join(list(map(lambda x: x[0]+x[-1], comb)))\n",
    "    groupby_obj = ratio_comb_df.groupby(by=list(comb))\n",
    "    \n",
    "    \n",
    "    df = pd.DataFrame()\n",
    "\n",
    "    df['ders combinasyonu'] = groupby_obj.count()[['ders1']]\n",
    "    df['ortalama oran'] = groupby_obj.sum()['oran'] / groupby_obj.count()['oran']\n",
    "\n",
    "    groupby[key] = df"
   ]
  },
  {
   "cell_type": "code",
   "execution_count": 17,
   "metadata": {},
   "outputs": [],
   "source": [
    "with pd.ExcelWriter(path+'3-result/groupby_correlation.xlsx', mode='w') as writer:\n",
    "    for group,df in groupby.items():\n",
    "        df.to_excel(writer, sheet_name=group)"
   ]
  },
  {
   "cell_type": "code",
   "execution_count": 18,
   "metadata": {},
   "outputs": [],
   "source": [
    "ratio_comb_df.to_excel(path + '/3-result/ratio_combinations_target.xlsx')\n",
    "roll_comb_df.to_excel(path + '/3-result/roll_combinations_target.xlsx')"
   ]
  },
  {
   "cell_type": "code",
   "execution_count": 19,
   "metadata": {},
   "outputs": [],
   "source": [
    "sorted = ratio_comb_df.sort_values(by='oran', ascending=False)"
   ]
  },
  {
   "cell_type": "markdown",
   "metadata": {},
   "source": [
    "# Visualize"
   ]
  },
  {
   "cell_type": "code",
   "execution_count": 20,
   "metadata": {},
   "outputs": [],
   "source": [
    "df1, df2 = ohe[ohe.columns[::2]], ohe[ohe.columns[1::2]]\n",
    "\n",
    "df = pd.DataFrame([df1.T.sum() , df2.T.sum()]).T\n",
    "df.columns = ['b', 'k']\n",
    "\n",
    "df['ratio'] = df.k / df.b\n",
    "\n",
    "\n",
    "target_df = df[df['ratio'] >= 0.5].sort_values(by='b', ascending=False)[:49]\n",
    "\n",
    "ohe = ohe.T[target_df.index].T"
   ]
  }
 ],
 "metadata": {
  "kernelspec": {
   "display_name": "Python 3.10.6 64-bit",
   "language": "python",
   "name": "python3"
  },
  "language_info": {
   "codemirror_mode": {
    "name": "ipython",
    "version": 3
   },
   "file_extension": ".py",
   "mimetype": "text/x-python",
   "name": "python",
   "nbconvert_exporter": "python",
   "pygments_lexer": "ipython3",
   "version": "3.10.6"
  },
  "orig_nbformat": 4,
  "vscode": {
   "interpreter": {
    "hash": "916dbcbb3f70747c44a77c7bcd40155683ae19c65e1c03b4aa3499c5328201f1"
   }
  }
 },
 "nbformat": 4,
 "nbformat_minor": 2
}
