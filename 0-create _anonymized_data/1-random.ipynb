{
 "cells": [
  {
   "cell_type": "markdown",
   "metadata": {},
   "source": [
    "# Path"
   ]
  },
  {
   "cell_type": "code",
   "execution_count": 18,
   "metadata": {},
   "outputs": [],
   "source": [
    "import sys\n",
    "import os\n",
    "\n",
    "project_path = r'/home/craxiss/Documents/projects/kapsul_etkinlik_v2'\n",
    "\n",
    "os.chdir(project_path)\n",
    "sys.path.append(project_path)"
   ]
  },
  {
   "cell_type": "markdown",
   "metadata": {},
   "source": [
    "# Imports"
   ]
  },
  {
   "cell_type": "code",
   "execution_count": 19,
   "metadata": {},
   "outputs": [],
   "source": [
    "from helpers import column_formatter, utf8_convert\n",
    "from names import get_first_name, get_last_name\n",
    "from config import data_path as path\n",
    "from random import choice\n",
    "from json import dump\n",
    "import pandas as pd\n",
    "import numpy as np\n",
    "\n",
    "import openpyxl"
   ]
  },
  {
   "cell_type": "markdown",
   "metadata": {},
   "source": [
    "# Read"
   ]
  },
  {
   "cell_type": "code",
   "execution_count": 27,
   "metadata": {},
   "outputs": [
    {
     "name": "stdout",
     "output_type": "stream",
     "text": [
      "['EĞİTİM ', 'TARİH', 'GÜN', 'SAAT', 'İSİM ', 'SOYİSİM', 'EĞİTİMCİSİ', 'CİNSİYET']\n",
      "['EĞİTİM ', 'TARİH', 'GÜN', 'SAAT', 'İSİM', 'SOYİSİM', 'CİNSİYET', 'EĞİTİMCİ']\n",
      "['EĞİTİM ', 'TARİH', 'GÜN', 'SAAT', 'İSİM', 'SOYİSİM', 'CİNSİYET', 'EĞİTİMCİ']\n",
      "['EĞİTİM ', 'TARİH', 'GÜN', 'SAAT', 'İSİM ', 'SOYİSİM', 'CİNSİYET', 'EĞİTİMCİ']\n",
      "['EĞİTİM ', 'TARİH', 'GÜN', 'SAAT', 'İSİM ', 'SOYİSİM', 'CİNSİYET', 'EĞİTİMCİ']\n",
      "['EĞİTİM ', 'TARİH', 'GÜN', 'SAAT', 'İSİM ', 'SOYİSİM', 'CİNSİYET', 'EĞİTİMCİ']\n",
      "['EĞİTİM ', 'TARİH', 'GÜN', 'SAAT', 'İSİM ', 'SOYİSİM', 'CİNSİYET', 'EĞİTİMCİ']\n",
      "['EĞİTİM ', 'TARİH', 'GÜN', 'SAAT', 'İSİM ', 'SOYİSİM', 'CİNSİYET', 'EĞİTİMCİ']\n",
      "['EĞİTİM ', 'TARİH', 'GÜN', 'SAAT', 'İSİM', 'SOYİSİM ', 'CİNSİYET', 'EĞİTİMCİ']\n",
      "['EĞİTİM ', 'TARİH', 'GÜN', 'SAAT', 'İSİM ', 'SOYİSİM', 'CİNSİYET', 'EĞİTİMCİ']\n",
      "['EĞİTİM ', 'TARİH', 'GÜN', 'SAAT', 'İSİM ', 'SOYİSİM', 'CİNSİYET', 'EĞİTİMCİ']\n",
      "['EĞİTİM ', 'TARİH', 'GÜN', 'SAAT', 'İSİM', 'SOYİSİM ', 'CİNSİYET', 'EĞİTİMCİ']\n",
      "['EĞİTİM ', 'TARİH', 'GÜN', 'SAAT', 'İSİM', 'SOYİSİM ', 'CİNSİYET', 'EĞİTİMCİ']\n",
      "['EĞİTİM ', 'TARİH', 'GÜN', 'SAAT', 'İSİM ', 'SOYİSİM', 'CİNSİYET', 'EĞİTİMCİ']\n",
      "['EĞİTİM ', 'TARİH', 'GÜN', 'SAAT', 'İSİM ', 'SOYİSİM', 'CİNSİYET', 'EĞİTİMCİ']\n",
      "['EĞİTİM ', 'TARİH', 'GÜN', 'SAAT', 'İSİM ', 'SOYİSİM', 'CİNSİYET', 'EĞİTİMCİ']\n",
      "['EĞİTİM ', 'TARİH', 'GÜN', 'SAAT', 'İSİM ', 'SOYİSİM', 'CİNSİYET', 'EĞİTİMCİ']\n",
      "['EĞİTİM ', 'TARİH', 'GÜN', 'SAAT', 'İSİM ', 'SOYİSİM', 'CİNSİYET', 'EĞİTİMCİ']\n",
      "['EĞİTİM ', 'TARİH', 'GÜN', 'SAAT', 'İSİM ', 'SOYİSİM', 'CİNSİYET', 'EĞİTİMCİ']\n",
      "['EĞİTİM ', 'TARİH', 'GÜN', 'SAAT', 'İSİM ', 'SOYİSİM', 'CİNSİYET', 'EĞİTİMCİ']\n",
      "['EĞİTİM ', 'TARİH', 'GÜN', 'SAAT', 'İSİM ', 'SOYİSİM', 'CİNSİYET', 'EĞİTİMCİ']\n",
      "['EĞİTİM ', 'TARİH', 'GÜN', 'SAAT', 'İSİM ', 'SOYİSİM', 'CİNSİYET', 'EĞİTİMCİ']\n",
      "['EĞİTİM ', 'TARİH', 'GÜN', 'SAAT', 'İSİM', 'SOYİSİM', 'CİNSİYET', 'EĞİTİMCİ']\n"
     ]
    }
   ],
   "source": [
    "appeals = pd.read_excel(path + '/1-raw/basvuru.xlsx')\n",
    "\n",
    "sheetnames = openpyxl.load_workbook(path+'1-raw/yoklama.xlsx').sheetnames\n",
    "\n",
    "sheets = dict()\n",
    "for k in sheetnames:\n",
    "    sheets[k] = pd.read_excel(path+'1-raw/yoklama.xlsx', sheet_name=k)\n",
    "    print(list(sheets[k].columns))"
   ]
  },
  {
   "cell_type": "markdown",
   "metadata": {},
   "source": [
    "# Appeals"
   ]
  },
  {
   "cell_type": "markdown",
   "metadata": {},
   "source": [
    "## Fake Names"
   ]
  },
  {
   "cell_type": "code",
   "execution_count": 21,
   "metadata": {},
   "outputs": [],
   "source": [
    "fake_names = dict()\n",
    "\n",
    "appeals['İsim - Soy isim'] = column_formatter(appeals['İsim - Soy isim']) \n",
    "\n",
    "for name in appeals['İsim - Soy isim']:\n",
    "    fake_names[name] = get_first_name() + \" \" + get_last_name()\n",
    "\n",
    "fake_list = list()\n",
    "\n",
    "for name in appeals['İsim - Soy isim']:\n",
    "    fake_list.append(fake_names[name])\n",
    "\n",
    "appeals['İsim - Soy isim'] = fake_list"
   ]
  },
  {
   "cell_type": "markdown",
   "metadata": {},
   "source": [
    "## Fake Numbers"
   ]
  },
  {
   "cell_type": "code",
   "execution_count": 22,
   "metadata": {},
   "outputs": [],
   "source": [
    "nums = list(map(lambda x : str(x), [0,1,2,3,4,5,6,7,8,9]))\n",
    "\n",
    "\n",
    "appeals['Cep Telefonunuz'] = list(map(lambda x : \"\".join([letter.replace(letter, choice(nums)) if letter.isnumeric() else letter for letter in x]) , [list(str(num)) for num in appeals['Cep Telefonunuz']]))"
   ]
  },
  {
   "cell_type": "markdown",
   "metadata": {},
   "source": [
    "## Fake Mails"
   ]
  },
  {
   "cell_type": "code",
   "execution_count": 23,
   "metadata": {},
   "outputs": [],
   "source": [
    "mails = [\"kapsulteknoloji.org\", \"gmail.com\", \"outlook.com\", \"qraxiss.com\"]\n",
    "appeals['E-mail Adresiniz'] = [\"@\".join([nick, choice(mails)]) if isinstance(actual_mail, str) else float(\"NaN\") for nick, actual_mail in zip(column_formatter(appeals['İsim - Soy isim']), appeals['E-mail Adresiniz'])]"
   ]
  },
  {
   "cell_type": "markdown",
   "metadata": {},
   "source": [
    "# Rolls"
   ]
  },
  {
   "cell_type": "code",
   "execution_count": 24,
   "metadata": {},
   "outputs": [],
   "source": [
    "sheets['finans'].drop(\"MAİL\", axis=1, inplace=True)"
   ]
  },
  {
   "cell_type": "code",
   "execution_count": 25,
   "metadata": {},
   "outputs": [],
   "source": [
    "for df in sheets.values():\n",
    "    names = column_formatter(df[df.columns[4]] + df[df.columns[5]])\n",
    "\n",
    "    fake_names2 = list()\n",
    "\n",
    "    if 'EĞİTİMCİSİ' in df.columns:\n",
    "        df['EĞİTİMCİSİ'] = get_first_name() + \" \" + get_last_name() \n",
    "    else:\n",
    "        df['EĞİTİMCİ'] = get_first_name() + \" \" + get_last_name()\n",
    "\n",
    "    for name in names:\n",
    "        if name in fake_names:\n",
    "            fake_names2.append(fake_names[name])\n",
    "\n",
    "        else:\n",
    "            fake_names2.append(get_first_name() + \" \" + get_last_name())\n",
    "\n",
    "    df[[df.columns[4], df.columns[5]]] = pd.DataFrame(list(pd.DataFrame(fake_names2)[0].str.split(' ')))"
   ]
  },
  {
   "cell_type": "markdown",
   "metadata": {},
   "source": [
    "# Write"
   ]
  },
  {
   "cell_type": "code",
   "execution_count": 26,
   "metadata": {},
   "outputs": [],
   "source": [
    "with pd.ExcelWriter(path+'1-raw/yoklama.xlsx', mode='w') as writer:\n",
    "    for sheet, df in sheets.items():\n",
    "        df.to_excel(writer, sheet_name=sheet, index=False)\n",
    "\n",
    "with pd.ExcelWriter(path+'1-raw/basvuru.xlsx', mode='w') as writer:\n",
    "    appeals.to_excel(writer, index=False)"
   ]
  }
 ],
 "metadata": {
  "kernelspec": {
   "display_name": "Python 3.10.6 64-bit",
   "language": "python",
   "name": "python3"
  },
  "language_info": {
   "codemirror_mode": {
    "name": "ipython",
    "version": 3
   },
   "file_extension": ".py",
   "mimetype": "text/x-python",
   "name": "python",
   "nbconvert_exporter": "python",
   "pygments_lexer": "ipython3",
   "version": "3.10.6"
  },
  "orig_nbformat": 4,
  "vscode": {
   "interpreter": {
    "hash": "916dbcbb3f70747c44a77c7bcd40155683ae19c65e1c03b4aa3499c5328201f1"
   }
  }
 },
 "nbformat": 4,
 "nbformat_minor": 2
}
