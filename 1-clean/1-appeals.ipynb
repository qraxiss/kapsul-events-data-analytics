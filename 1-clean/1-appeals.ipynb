{
 "cells": [
  {
   "cell_type": "markdown",
   "metadata": {},
   "source": [
    "# Path"
   ]
  },
  {
   "cell_type": "code",
   "execution_count": 1,
   "metadata": {},
   "outputs": [],
   "source": [
    "import sys\n",
    "import os\n",
    "\n",
    "project_path = r'/home/craxiss/Documents/projects/kapsul_etkinlik_v2'\n",
    "\n",
    "os.chdir(project_path)\n",
    "sys.path.append(project_path)"
   ]
  },
  {
   "cell_type": "markdown",
   "metadata": {},
   "source": [
    "# Imports"
   ]
  },
  {
   "cell_type": "code",
   "execution_count": 2,
   "metadata": {},
   "outputs": [],
   "source": [
    "from helpers import column_formatter, utf8_convert\n",
    "from config import data_path as path\n",
    "from json import dump\n",
    "import pandas as pd\n",
    "import numpy as np"
   ]
  },
  {
   "cell_type": "markdown",
   "metadata": {},
   "source": [
    "# Read"
   ]
  },
  {
   "cell_type": "code",
   "execution_count": 3,
   "metadata": {},
   "outputs": [],
   "source": [
    "appeals = pd.read_excel(path+'/1-raw/basvuru.xlsx')"
   ]
  },
  {
   "cell_type": "markdown",
   "metadata": {},
   "source": [
    "# Format Numbers"
   ]
  },
  {
   "cell_type": "code",
   "execution_count": 4,
   "metadata": {},
   "outputs": [],
   "source": [
    "for char in ['(', ' ', ')', '-', '+']:\n",
    "    appeals['Cep Telefonunuz'] = appeals['Cep Telefonunuz'].str.replace(char, '', regex=True)\n",
    "\n",
    "appeals['Cep Telefonunuz'] = appeals['Cep Telefonunuz'].str[-10:]\n",
    "appeals['Cep Telefonunuz'] = appeals['Cep Telefonunuz'] + 'str'\n",
    "\n",
    "# Telefon numaralarında olan gereksiz karakterleri silip sondan 10 karakteri alıp sonuna 'str' ekledim.\n",
    "# str eklememin sebebi pandas kütüphanesinin otomatik olarak telefon numaralarını tam sayıya çevirmesi."
   ]
  },
  {
   "cell_type": "markdown",
   "metadata": {},
   "source": [
    "# Format Names"
   ]
  },
  {
   "cell_type": "code",
   "execution_count": 5,
   "metadata": {},
   "outputs": [],
   "source": [
    "appeals['İsim - Soy isim'] = column_formatter(appeals['İsim - Soy isim'])\n",
    "# column_formatter isimleri küçültüp birleştiriyor ve türkçe karakterleri siliyor."
   ]
  },
  {
   "cell_type": "markdown",
   "metadata": {},
   "source": [
    "# Get Appealed Lessons"
   ]
  },
  {
   "cell_type": "code",
   "execution_count": 6,
   "metadata": {},
   "outputs": [],
   "source": [
    "lesson_user_dict = dict()\n",
    "lessons_list = list()\n",
    "\n",
    "for col in appeals.columns[4:]:\n",
    "    appeals[col] = appeals[col].str.split(',')\n",
    "\n",
    "for i in range(appeals.shape[0]):\n",
    "    row = appeals.iloc[i:i+1]\n",
    "    name = utf8_convert(row['İsim - Soy isim'].iloc[0])\n",
    "    \n",
    "    lessons_list_temp = list()\n",
    "    for col in appeals.columns[4:]:\n",
    "        lessons = row[col].iloc[0]\n",
    "\n",
    "        if type(lessons) == type(float('NaN')) or type(lessons) == type(np.nan):\n",
    "            lessons = []\n",
    "\n",
    "        if name not in lesson_user_dict:\n",
    "            lesson_user_dict[name] = lessons\n",
    "        else:\n",
    "            lesson_user_dict[name].extend(lessons)\n",
    "\n",
    "        lessons_list_temp.extend(lessons)\n",
    "    lessons_list.append(','.join(lessons_list_temp))    \n",
    "\n",
    "appeals['Başvurulan Dersler'] = lessons_list"
   ]
  },
  {
   "cell_type": "code",
   "execution_count": 7,
   "metadata": {},
   "outputs": [],
   "source": [
    "all = list()\n",
    "for lessons in appeals['Başvurulan Dersler']:\n",
    "    all.extend(list(map(lambda x: x.strip(), lessons.split(','))))\n",
    "\n",
    "kw = dict(zip(set(all), list(map(lambda x: x+\" 101\" if(\"101\" not in x and x != '') else x, set(all)))))\n",
    "\n",
    "lesson_names = pd.DataFrame([kw])\n",
    "\n",
    "appeals = appeals[['İsim - Soy isim', 'Cep Telefonunuz', 'E-mail Adresiniz', 'Zaman damgası', 'Başvurulan Dersler']]\n",
    "appeals.columns = ['name', 'phone', 'mail', 'time', 'lessons']"
   ]
  },
  {
   "cell_type": "markdown",
   "metadata": {},
   "source": [
    "# Charset Normalization"
   ]
  },
  {
   "cell_type": "code",
   "execution_count": 9,
   "metadata": {},
   "outputs": [],
   "source": [
    "for col in appeals.columns[:-1]:\n",
    "    for i in range(appeals[col].shape[0]):\n",
    "        appeals.loc[i,col] = utf8_convert(appeals.loc[i,col])"
   ]
  },
  {
   "cell_type": "markdown",
   "metadata": {},
   "source": [
    "# Write"
   ]
  },
  {
   "cell_type": "markdown",
   "metadata": {},
   "source": [
    "## XLSX"
   ]
  },
  {
   "cell_type": "code",
   "execution_count": 10,
   "metadata": {},
   "outputs": [],
   "source": [
    "with pd.ExcelWriter(path+'/2-cleaned/basvuru.xlsx') as writer:\n",
    "    appeals.to_excel(writer, sheet_name='Başvurular')\n",
    "    lesson_names.T.to_excel(writer, sheet_name='Dersler')"
   ]
  }
 ],
 "metadata": {
  "kernelspec": {
   "display_name": "Python 3.10.6 64-bit",
   "language": "python",
   "name": "python3"
  },
  "language_info": {
   "codemirror_mode": {
    "name": "ipython",
    "version": 3
   },
   "file_extension": ".py",
   "mimetype": "text/x-python",
   "name": "python",
   "nbconvert_exporter": "python",
   "pygments_lexer": "ipython3",
   "version": "3.10.6"
  },
  "orig_nbformat": 4,
  "vscode": {
   "interpreter": {
    "hash": "916dbcbb3f70747c44a77c7bcd40155683ae19c65e1c03b4aa3499c5328201f1"
   }
  }
 },
 "nbformat": 4,
 "nbformat_minor": 2
}
