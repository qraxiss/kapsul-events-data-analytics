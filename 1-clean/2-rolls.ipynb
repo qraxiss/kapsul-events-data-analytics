{
 "cells": [
  {
   "cell_type": "markdown",
   "metadata": {},
   "source": [
    "# Path"
   ]
  },
  {
   "cell_type": "code",
   "execution_count": 47,
   "metadata": {},
   "outputs": [],
   "source": [
    "import sys\n",
    "import os\n",
    "\n",
    "project_path = r'/home/craxiss/Documents/projects/kapsul_etkinlik_v2'\n",
    "\n",
    "os.chdir(project_path)\n",
    "sys.path.append(project_path)"
   ]
  },
  {
   "cell_type": "markdown",
   "metadata": {},
   "source": [
    "# Imports"
   ]
  },
  {
   "cell_type": "code",
   "execution_count": 48,
   "metadata": {},
   "outputs": [],
   "source": [
    "from helpers import column_formatter, utf8_convert\n",
    "from charset_normalizer import detect\n",
    "from config import data_path as path\n",
    "from datetime import datetime\n",
    "from json import dump, load\n",
    "import pandas as pd\n",
    "import openpyxl"
   ]
  },
  {
   "cell_type": "markdown",
   "metadata": {},
   "source": [
    "# Read"
   ]
  },
  {
   "cell_type": "code",
   "execution_count": 49,
   "metadata": {},
   "outputs": [],
   "source": [
    "sheetnames = openpyxl.load_workbook(path+'1-raw/yoklama.xlsx').sheetnames\n",
    "\n",
    "appeals = pd.read_excel(path+'/2-cleaned/basvuru.xlsx')"
   ]
  },
  {
   "cell_type": "markdown",
   "metadata": {},
   "source": [
    "# Sync Sheet Names"
   ]
  },
  {
   "cell_type": "code",
   "execution_count": 50,
   "metadata": {},
   "outputs": [],
   "source": [
    "lesson101 = dict()\n",
    "for i in range(appeals.shape[0]):\n",
    "    row = appeals.iloc[i:i+1]\n",
    "    for col in appeals.columns[4:]:\n",
    "        lessons = str(row[col].iloc[0]).split(',')\n",
    "        for lesson in lessons:\n",
    "            lesson101[lesson.strip(' ')] = lesson.strip()\n",
    "\n",
    "\n",
    "del lesson101['nan'] # delete unnamed\n",
    "for k,v in {'IOT':'IOT 101', 'Finans':'Finans 101'}.items(): # set unmatched lessons\n",
    "    lesson101[k] = v\n",
    "\n",
    "synced_sheet_names = dict()\n",
    "for sheetname in sheetnames:\n",
    "    sheetname_stripped = sheetname.strip().lower()\n",
    "    for lesson in lesson101:\n",
    "        if sheetname_stripped in lesson.lower():\n",
    "            synced_sheet_names[sheetname] = lesson101[lesson]"
   ]
  },
  {
   "cell_type": "code",
   "execution_count": 51,
   "metadata": {},
   "outputs": [
    {
     "name": "stdout",
     "output_type": "stream",
     "text": [
      "Non-Match Sheets {'Proje Yönetimi', 'Ardunio '}\n"
     ]
    }
   ],
   "source": [
    "print('Non-Match Sheets', set(sheetnames) - set(synced_sheet_names))\n",
    "\n",
    "synced_sheet_names['Ardunio '] = 'Arduino 101'\n",
    "synced_sheet_names['Proje Yönetimi'] = 'Proje Döngüsü Yönetimi 101'\n",
    "\n",
    "# Metaverse is empty\n",
    "del synced_sheet_names['Metaverse ']"
   ]
  },
  {
   "cell_type": "markdown",
   "metadata": {},
   "source": [
    "# Read Sheets"
   ]
  },
  {
   "cell_type": "code",
   "execution_count": 52,
   "metadata": {},
   "outputs": [],
   "source": [
    "sheets = dict()\n",
    "for k, v in synced_sheet_names.items():\n",
    "    sheets[v] = pd.read_excel(path+'1-raw/yoklama.xlsx', sheet_name=k)"
   ]
  },
  {
   "cell_type": "markdown",
   "metadata": {},
   "source": [
    "# Sync Column Names"
   ]
  },
  {
   "cell_type": "code",
   "execution_count": 53,
   "metadata": {},
   "outputs": [],
   "source": [
    "all_columns = set()\n",
    "\n",
    "for data in sheets:\n",
    "    data = sheets[data]\n",
    "    all_columns = set.union(all_columns, set(data.columns))\n",
    "\n",
    "\n",
    "for data_col in sheets:\n",
    "    data = sheets[data_col]\n",
    "\n",
    "    sheet_cols = list()\n",
    "    for col in data.columns:\n",
    "        if col == \"EĞİTİMCİSİ\":\n",
    "            sheet_cols.append(\"EĞİTİMCİ\")\n",
    "\n",
    "        else:\n",
    "            sheet_cols.append(col.strip())\n",
    "\n",
    "    data.columns = sheet_cols\n",
    "\n",
    "all_columns = set()\n",
    "\n",
    "for data in sheets:\n",
    "    data = sheets[data]\n",
    "    all_columns = set.union(all_columns, set(data.columns))\n"
   ]
  },
  {
   "cell_type": "markdown",
   "metadata": {},
   "source": [
    "# Get Roll Called Person per Lesson"
   ]
  },
  {
   "cell_type": "code",
   "execution_count": 54,
   "metadata": {},
   "outputs": [],
   "source": [
    "roll_call_user_dict = dict()\n",
    "\n",
    "for sheet in sheets:\n",
    "    df = sheets[sheet]\n",
    "    df['İSİM SOYİSİM'] = column_formatter(df['İSİM'] + df['SOYİSİM'])\n",
    "\n",
    "    for name in df['İSİM SOYİSİM']:\n",
    "        name = utf8_convert(name)\n",
    "        if name not in roll_call_user_dict:\n",
    "            roll_call_user_dict[name] = list()\n",
    "        roll_call_user_dict[name].append(sheet)\n"
   ]
  },
  {
   "cell_type": "markdown",
   "metadata": {},
   "source": [
    "# Format Lessons"
   ]
  },
  {
   "cell_type": "code",
   "execution_count": 55,
   "metadata": {},
   "outputs": [],
   "source": [
    "lesson_info = dict()\n",
    "for sheet in sheets:\n",
    "    df = sheets[sheet]\n",
    "    df['CİNSİYET'] = df['CİNSİYET'].str.replace('KIZ', 'KADIN')\n",
    "    row = df.iloc[0:1]\n",
    "\n",
    "    lesson_info[sheet] = {'TARİH': str(row['TARİH'].iloc[0]),\n",
    "                          'GÜN': row['GÜN'].iloc[0], 'EĞİTİMCİ': row['EĞİTİMCİ'].iloc[0]}\n",
    "\n",
    "    lesson_info[sheet]['BAŞLANGIÇ SAATİ'], lesson_info[sheet]['BİTİŞ SAATİ'] = row['SAAT'].iloc[0].split(\n",
    "        '-')\n",
    "\n",
    "lesson_info['Finans 101']['TARİH'] = '2022-06-02 00:00:00'"
   ]
  },
  {
   "cell_type": "markdown",
   "metadata": {},
   "source": [
    "# Format Times"
   ]
  },
  {
   "cell_type": "code",
   "execution_count": 56,
   "metadata": {},
   "outputs": [],
   "source": [
    "months = ['ocak', 'şubat', 'mart', 'nisan', 'mayıs', 'haziran',\n",
    "          'temmuz', 'ağustos', 'eylül', 'ekim', 'kasım', 'aralık']\n",
    "\n",
    "days = [\"pazartesi\", \"salı\", \"çarşamba\",\n",
    "        \"perşembe\", \"cuma\", \"cumartesi\", \"pazar\"]\n",
    "\n",
    "lesson_info_df = pd.DataFrame(lesson_info).T"
   ]
  },
  {
   "cell_type": "code",
   "execution_count": 57,
   "metadata": {},
   "outputs": [],
   "source": [
    "month, weekday = list(), list()\n",
    "for date in lesson_info_df['TARİH']:\n",
    "    date = datetime.strptime(date.replace(' 00:00:00', ''), \"%Y-%m-%d\")\n",
    "    month.append(months[date.month-1]), weekday.append(days[date.weekday()])\n",
    "\n",
    "lesson_info_df['GÜN'] = weekday\n",
    "lesson_info_df['AY'] = month\n",
    "\n",
    "lesson_info_df.sort_values(by='TARİH', inplace=True)"
   ]
  },
  {
   "cell_type": "markdown",
   "metadata": {},
   "source": [
    "# Charset Normalization"
   ]
  },
  {
   "cell_type": "code",
   "execution_count": 58,
   "metadata": {},
   "outputs": [],
   "source": [
    "for sheet in sheets:\n",
    "    df = sheets[sheet][['İSİM SOYİSİM', 'CİNSİYET']]\n",
    "    for col in range(df.shape[1]):\n",
    "        for i in range(df.shape[0]):\n",
    "            df.iat[i, col] = utf8_convert(df.iat[i, col])\n",
    "    \n",
    "    sheets[sheet] = df"
   ]
  },
  {
   "cell_type": "markdown",
   "metadata": {},
   "source": [
    "# Write"
   ]
  },
  {
   "cell_type": "markdown",
   "metadata": {},
   "source": [
    "## XLSX"
   ]
  },
  {
   "cell_type": "code",
   "execution_count": 59,
   "metadata": {},
   "outputs": [
    {
     "data": {
      "text/html": [
       "<div>\n",
       "<style scoped>\n",
       "    .dataframe tbody tr th:only-of-type {\n",
       "        vertical-align: middle;\n",
       "    }\n",
       "\n",
       "    .dataframe tbody tr th {\n",
       "        vertical-align: top;\n",
       "    }\n",
       "\n",
       "    .dataframe thead th {\n",
       "        text-align: right;\n",
       "    }\n",
       "</style>\n",
       "<table border=\"1\" class=\"dataframe\">\n",
       "  <thead>\n",
       "    <tr style=\"text-align: right;\">\n",
       "      <th></th>\n",
       "      <th>İSİM SOYİSİM</th>\n",
       "      <th>CİNSİYET</th>\n",
       "    </tr>\n",
       "  </thead>\n",
       "  <tbody>\n",
       "    <tr>\n",
       "      <th>0</th>\n",
       "      <td>everettfrost</td>\n",
       "      <td>ERKEK</td>\n",
       "    </tr>\n",
       "    <tr>\n",
       "      <th>1</th>\n",
       "      <td>henryreeves</td>\n",
       "      <td>KADIN</td>\n",
       "    </tr>\n",
       "    <tr>\n",
       "      <th>2</th>\n",
       "      <td>christinahirota</td>\n",
       "      <td>ERKEK</td>\n",
       "    </tr>\n",
       "    <tr>\n",
       "      <th>3</th>\n",
       "      <td>elizabethboyle</td>\n",
       "      <td>ERKEK</td>\n",
       "    </tr>\n",
       "    <tr>\n",
       "      <th>4</th>\n",
       "      <td>keniathornburg</td>\n",
       "      <td>KADIN</td>\n",
       "    </tr>\n",
       "    <tr>\n",
       "      <th>5</th>\n",
       "      <td>andreawynne</td>\n",
       "      <td>KADIN</td>\n",
       "    </tr>\n",
       "    <tr>\n",
       "      <th>6</th>\n",
       "      <td>justinward</td>\n",
       "      <td>KADIN</td>\n",
       "    </tr>\n",
       "    <tr>\n",
       "      <th>7</th>\n",
       "      <td>lukekorth</td>\n",
       "      <td>KADIN</td>\n",
       "    </tr>\n",
       "    <tr>\n",
       "      <th>8</th>\n",
       "      <td>kimfoley</td>\n",
       "      <td>KADIN</td>\n",
       "    </tr>\n",
       "    <tr>\n",
       "      <th>9</th>\n",
       "      <td>raymonddixon</td>\n",
       "      <td>ERKEK</td>\n",
       "    </tr>\n",
       "    <tr>\n",
       "      <th>10</th>\n",
       "      <td>francesponce</td>\n",
       "      <td>ERKEK</td>\n",
       "    </tr>\n",
       "    <tr>\n",
       "      <th>11</th>\n",
       "      <td>desireeallen</td>\n",
       "      <td>ERKEK</td>\n",
       "    </tr>\n",
       "    <tr>\n",
       "      <th>12</th>\n",
       "      <td>marcosnordin</td>\n",
       "      <td>KADIN</td>\n",
       "    </tr>\n",
       "    <tr>\n",
       "      <th>13</th>\n",
       "      <td>johncurd</td>\n",
       "      <td>ERKEK</td>\n",
       "    </tr>\n",
       "    <tr>\n",
       "      <th>14</th>\n",
       "      <td>gregorykoss</td>\n",
       "      <td>ERKEK</td>\n",
       "    </tr>\n",
       "    <tr>\n",
       "      <th>15</th>\n",
       "      <td>marywilliams</td>\n",
       "      <td>ERKEK</td>\n",
       "    </tr>\n",
       "    <tr>\n",
       "      <th>16</th>\n",
       "      <td>carolspiller</td>\n",
       "      <td>KADIN</td>\n",
       "    </tr>\n",
       "    <tr>\n",
       "      <th>17</th>\n",
       "      <td>stephenlewis</td>\n",
       "      <td>KADIN</td>\n",
       "    </tr>\n",
       "    <tr>\n",
       "      <th>18</th>\n",
       "      <td>prestonbrown</td>\n",
       "      <td>KADIN</td>\n",
       "    </tr>\n",
       "    <tr>\n",
       "      <th>19</th>\n",
       "      <td>jeriderossett</td>\n",
       "      <td>KADIN</td>\n",
       "    </tr>\n",
       "    <tr>\n",
       "      <th>20</th>\n",
       "      <td>hilmaantoniou</td>\n",
       "      <td>ERKEK</td>\n",
       "    </tr>\n",
       "    <tr>\n",
       "      <th>21</th>\n",
       "      <td>linalovell</td>\n",
       "      <td>KADIN</td>\n",
       "    </tr>\n",
       "    <tr>\n",
       "      <th>22</th>\n",
       "      <td>timothyanderson</td>\n",
       "      <td>KADIN</td>\n",
       "    </tr>\n",
       "    <tr>\n",
       "      <th>23</th>\n",
       "      <td>pauldufour</td>\n",
       "      <td>KADIN</td>\n",
       "    </tr>\n",
       "  </tbody>\n",
       "</table>\n",
       "</div>"
      ],
      "text/plain": [
       "       İSİM SOYİSİM CİNSİYET\n",
       "0      everettfrost    ERKEK\n",
       "1       henryreeves    KADIN\n",
       "2   christinahirota    ERKEK\n",
       "3    elizabethboyle    ERKEK\n",
       "4    keniathornburg    KADIN\n",
       "5       andreawynne    KADIN\n",
       "6        justinward    KADIN\n",
       "7         lukekorth    KADIN\n",
       "8          kimfoley    KADIN\n",
       "9      raymonddixon    ERKEK\n",
       "10     francesponce    ERKEK\n",
       "11     desireeallen    ERKEK\n",
       "12     marcosnordin    KADIN\n",
       "13         johncurd    ERKEK\n",
       "14      gregorykoss    ERKEK\n",
       "15     marywilliams    ERKEK\n",
       "16     carolspiller    KADIN\n",
       "17     stephenlewis    KADIN\n",
       "18     prestonbrown    KADIN\n",
       "19    jeriderossett    KADIN\n",
       "20    hilmaantoniou    ERKEK\n",
       "21       linalovell    KADIN\n",
       "22  timothyanderson    KADIN\n",
       "23       pauldufour    KADIN"
      ]
     },
     "execution_count": 59,
     "metadata": {},
     "output_type": "execute_result"
    }
   ],
   "source": [
    "sheets['Hikaye Anlatıcılığı 101']"
   ]
  },
  {
   "cell_type": "code",
   "execution_count": 60,
   "metadata": {},
   "outputs": [],
   "source": [
    "with pd.ExcelWriter(path+'2-cleaned/yoklama.xlsx', mode='w') as writer:\n",
    "    for sheet in sheets:\n",
    "        df = sheets[sheet]\n",
    "        df.columns = ['name', 'gender']\n",
    "        df.to_excel(writer, sheet_name=sheet, index=False)\n",
    "\n",
    "    \n",
    "    lesson_info_df.to_excel(writer, sheet_name='General Info')"
   ]
  }
 ],
 "metadata": {
  "kernelspec": {
   "display_name": "Python 3.10.6 64-bit",
   "language": "python",
   "name": "python3"
  },
  "language_info": {
   "codemirror_mode": {
    "name": "ipython",
    "version": 3
   },
   "file_extension": ".py",
   "mimetype": "text/x-python",
   "name": "python",
   "nbconvert_exporter": "python",
   "pygments_lexer": "ipython3",
   "version": "3.10.6"
  },
  "orig_nbformat": 4,
  "vscode": {
   "interpreter": {
    "hash": "916dbcbb3f70747c44a77c7bcd40155683ae19c65e1c03b4aa3499c5328201f1"
   }
  }
 },
 "nbformat": 4,
 "nbformat_minor": 2
}
