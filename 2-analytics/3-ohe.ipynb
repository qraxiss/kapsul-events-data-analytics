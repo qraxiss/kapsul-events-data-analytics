{
 "cells": [
  {
   "cell_type": "markdown",
   "metadata": {},
   "source": [
    "# Path"
   ]
  },
  {
   "cell_type": "code",
   "execution_count": 12,
   "metadata": {},
   "outputs": [],
   "source": [
    "import sys\n",
    "import os\n",
    "\n",
    "project_path = r'/home/craxiss/Documents/projects/kapsul_etkinlik_v2'\n",
    "\n",
    "os.chdir(project_path)\n",
    "sys.path.append(project_path)"
   ]
  },
  {
   "cell_type": "markdown",
   "metadata": {},
   "source": [
    "# Imports"
   ]
  },
  {
   "cell_type": "code",
   "execution_count": 13,
   "metadata": {},
   "outputs": [],
   "source": [
    "from helpers import column_formatter, utf8_convert, first_letter_id_generator\n",
    "from charset_normalizer import detect\n",
    "from config import data_path as path\n",
    "from string import ascii_lowercase\n",
    "from json import load, dump\n",
    "import pandas as pd\n",
    "import openpyxl"
   ]
  },
  {
   "cell_type": "markdown",
   "metadata": {},
   "source": [
    "# Read"
   ]
  },
  {
   "cell_type": "code",
   "execution_count": 14,
   "metadata": {},
   "outputs": [],
   "source": [
    "information = pd.read_excel(\n",
    "    path+'/3-result/information.xlsx', index_col='Unnamed: 0')\n",
    "events_per_person = pd.read_excel(\n",
    "    path+'/3-result/events_per_person.xlsx', index_col='Unnamed: 0')\n",
    "\n",
    "events = pd.read_excel(\n",
    "    path+'/3-result/events.xlsx', index_col='Unnamed: 0')\n",
    "\n",
    "with pd.ExcelFile(path + '/2-cleaned/basvuru.xlsx') as appeals_xlsx:\n",
    "    appeals = pd.read_excel(\n",
    "        appeals_xlsx, index_col='Unnamed: 0', sheet_name='Başvurular')\n",
    "    lessons_all = pd.read_excel(\n",
    "        appeals_xlsx, index_col='Unnamed: 0', sheet_name='Dersler')\n",
    "\n",
    "\n",
    "with pd.ExcelFile(path + '/2-cleaned/yoklama.xlsx') as rolls_xlsx:\n",
    "    rolls_info = pd.read_excel(\n",
    "        rolls_xlsx, 'General Info', index_col='Unnamed: 0')\n",
    "\n",
    "    rolls = dict()\n",
    "    for sheet in rolls_info.index:\n",
    "        rolls[sheet] = pd.read_excel(rolls_xlsx, sheet)\n",
    "\n",
    "information['id'] = information.index\n"
   ]
  },
  {
   "cell_type": "markdown",
   "metadata": {},
   "source": [
    "# One Hot Encoding"
   ]
  },
  {
   "cell_type": "code",
   "execution_count": 15,
   "metadata": {},
   "outputs": [],
   "source": [
    "events_list = list(events['eğitim'])"
   ]
  },
  {
   "cell_type": "code",
   "execution_count": 16,
   "metadata": {},
   "outputs": [],
   "source": [
    "cols = list()\n",
    "list(map(lambda x: cols.extend([x + \" BAŞVURU\", x + \" KATILIM\"]), events_list))\n",
    "ohe = pd.DataFrame(columns = cols)"
   ]
  },
  {
   "cell_type": "code",
   "execution_count": 17,
   "metadata": {},
   "outputs": [],
   "source": [
    "for row in events_per_person.iterrows():\n",
    "    ohe_row = dict.fromkeys(cols, 0)\n",
    "    index, row = row[0], row[1]\n",
    "    appeals, rolls = row[1], row[2]\n",
    "\n",
    "    if type(appeals) != float:\n",
    "        appeals = appeals.split(',')\n",
    "\n",
    "        for appeal in appeals:\n",
    "            ohe_row[appeal + ' BAŞVURU'] = 1\n",
    "\n",
    "\n",
    "    if type(rolls) != float:\n",
    "        rolls = rolls.split(',')\n",
    "\n",
    "        for appeal in rolls:\n",
    "            ohe_row[appeal + ' KATILIM'] = 1\n",
    "\n",
    "    ohe = pd.concat([ohe, pd.DataFrame([ohe_row], index=[index])])"
   ]
  },
  {
   "cell_type": "markdown",
   "metadata": {},
   "source": [
    "# Column Hashing"
   ]
  },
  {
   "cell_type": "code",
   "execution_count": 18,
   "metadata": {},
   "outputs": [],
   "source": [
    "ohe.columns = list(map(lambda x: f'b{(x[0]/2) + 1:.0f}' if('BAŞVURU' in x[1]) else f'k{((x[0]-1)/2) + 1:.0f}', enumerate(cols)))"
   ]
  },
  {
   "cell_type": "markdown",
   "metadata": {},
   "source": [
    "# Write"
   ]
  },
  {
   "cell_type": "code",
   "execution_count": 19,
   "metadata": {},
   "outputs": [],
   "source": [
    "ohe.to_excel(path+'/3-result/event_per_person_ohe.xlsx')"
   ]
  }
 ],
 "metadata": {
  "kernelspec": {
   "display_name": "Python 3.10.6 64-bit",
   "language": "python",
   "name": "python3"
  },
  "language_info": {
   "codemirror_mode": {
    "name": "ipython",
    "version": 3
   },
   "file_extension": ".py",
   "mimetype": "text/x-python",
   "name": "python",
   "nbconvert_exporter": "python",
   "pygments_lexer": "ipython3",
   "version": "3.10.6"
  },
  "orig_nbformat": 4,
  "vscode": {
   "interpreter": {
    "hash": "916dbcbb3f70747c44a77c7bcd40155683ae19c65e1c03b4aa3499c5328201f1"
   }
  }
 },
 "nbformat": 4,
 "nbformat_minor": 2
}
