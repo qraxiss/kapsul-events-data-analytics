{
 "cells": [
  {
   "cell_type": "markdown",
   "metadata": {},
   "source": [
    "# Path"
   ]
  },
  {
   "cell_type": "code",
   "execution_count": 51,
   "metadata": {},
   "outputs": [],
   "source": [
    "import sys\n",
    "import os\n",
    "\n",
    "project_path = r'/home/craxiss/Documents/projects/kapsul_etkinlik_v2'\n",
    "\n",
    "os.chdir(project_path)\n",
    "sys.path.append(project_path)"
   ]
  },
  {
   "cell_type": "markdown",
   "metadata": {},
   "source": [
    "# Import"
   ]
  },
  {
   "cell_type": "code",
   "execution_count": 52,
   "metadata": {},
   "outputs": [],
   "source": [
    "from helpers import column_formatter, first_letter_id_generator\n",
    "from charset_normalizer import detect\n",
    "from config import data_path as path\n",
    "from string import ascii_lowercase\n",
    "from json import load, dump\n",
    "import pandas as pd\n",
    "import openpyxl"
   ]
  },
  {
   "cell_type": "markdown",
   "metadata": {},
   "source": [
    "# Read"
   ]
  },
  {
   "cell_type": "code",
   "execution_count": 53,
   "metadata": {},
   "outputs": [],
   "source": [
    "information = pd.read_excel(path+'/3-result/information.xlsx', index_col='Unnamed: 0')\n",
    "\n",
    "with pd.ExcelFile(path + '/2-cleaned/basvuru.xlsx') as appeals_xlsx:\n",
    "    appeals = pd.read_excel(appeals_xlsx, index_col='Unnamed: 0', sheet_name='Başvurular')\n",
    "    lessons_all = pd.read_excel(appeals_xlsx, index_col='Unnamed: 0', sheet_name='Dersler')\n",
    "\n",
    "\n",
    "with pd.ExcelFile(path + '/2-cleaned/yoklama.xlsx') as rolls_xlsx:\n",
    "    rolls_info = pd.read_excel(rolls_xlsx, 'General Info', index_col='Unnamed: 0')\n",
    "\n",
    "    rolls = dict()\n",
    "    for sheet in rolls_info.index:\n",
    "        rolls[sheet] = pd.read_excel(rolls_xlsx, sheet)\n",
    "\n",
    "information['id'] = information.index"
   ]
  },
  {
   "cell_type": "markdown",
   "metadata": {},
   "source": [
    "# Concatting"
   ]
  },
  {
   "cell_type": "code",
   "execution_count": 54,
   "metadata": {},
   "outputs": [],
   "source": [
    "def name_indexer(df):\n",
    "    df = df.copy()\n",
    "    df.index = df.name\n",
    "    return df.T\n",
    "\n",
    "information = name_indexer(information)"
   ]
  },
  {
   "cell_type": "markdown",
   "metadata": {},
   "source": [
    "## Appeals"
   ]
  },
  {
   "cell_type": "code",
   "execution_count": 55,
   "metadata": {},
   "outputs": [],
   "source": [
    "events_dict = dict()\n",
    "lessons_kw = lessons_all.to_dict()[0]\n",
    "for row in appeals.iterrows():\n",
    "\n",
    "    row = dict(row[1])\n",
    "    name = row['name']\n",
    "    person = dict(information[name])\n",
    "\n",
    "    if type(row['lessons']) != str:\n",
    "        lessons = []\n",
    "\n",
    "    else:\n",
    "        lessons = row['lessons'].split(',')\n",
    "\n",
    "    lessons = list(map(lambda x: lessons_kw[x.strip()], lessons))\n",
    "\n",
    "    if person['id'] not in events_dict:\n",
    "        events_dict[person['id']] = {'name': name,\n",
    "                                     'appeals': lessons, \n",
    "                                     'rolls': list()}\n",
    "    else:\n",
    "        events_dict[person['id']]['appeals'].extend(lessons)\n"
   ]
  },
  {
   "cell_type": "markdown",
   "metadata": {},
   "source": [
    "## Rolls"
   ]
  },
  {
   "cell_type": "code",
   "execution_count": 57,
   "metadata": {},
   "outputs": [],
   "source": [
    "for sheet in rolls:\n",
    "    for name in rolls[sheet].name:\n",
    "        id = information[name][4]\n",
    "        if id not in events_dict:\n",
    "            events_dict[id] = {'name': name,\n",
    "                               'appeals': list(),\n",
    "                               'rolls': list()}\n",
    "\n",
    "        events_dict[id]['rolls'].append(sheet)"
   ]
  },
  {
   "cell_type": "markdown",
   "metadata": {},
   "source": [
    "# Write"
   ]
  },
  {
   "cell_type": "code",
   "execution_count": 58,
   "metadata": {},
   "outputs": [],
   "source": [
    "events_per_person = pd.DataFrame(events_dict).T\n",
    "for column in ['appeals', 'rolls']:\n",
    "    events_per_person[column] = events_per_person[column].str.join(',')"
   ]
  },
  {
   "cell_type": "code",
   "execution_count": 59,
   "metadata": {},
   "outputs": [],
   "source": [
    "with pd.ExcelWriter(path+'3-result/events_per_person.xlsx', mode='w') as writer:\n",
    "    events_per_person.to_excel(writer, sheet_name='Events')"
   ]
  }
 ],
 "metadata": {
  "kernelspec": {
   "display_name": "Python 3.10.6 64-bit",
   "language": "python",
   "name": "python3"
  },
  "language_info": {
   "codemirror_mode": {
    "name": "ipython",
    "version": 3
   },
   "file_extension": ".py",
   "mimetype": "text/x-python",
   "name": "python",
   "nbconvert_exporter": "python",
   "pygments_lexer": "ipython3",
   "version": "3.10.6"
  },
  "orig_nbformat": 4,
  "vscode": {
   "interpreter": {
    "hash": "916dbcbb3f70747c44a77c7bcd40155683ae19c65e1c03b4aa3499c5328201f1"
   }
  }
 },
 "nbformat": 4,
 "nbformat_minor": 2
}
