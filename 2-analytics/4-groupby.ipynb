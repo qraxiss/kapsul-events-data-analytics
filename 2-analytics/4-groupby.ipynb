{
 "cells": [
  {
   "cell_type": "markdown",
   "metadata": {},
   "source": [
    "# Path"
   ]
  },
  {
   "cell_type": "code",
   "execution_count": 150,
   "metadata": {},
   "outputs": [],
   "source": [
    "import sys\n",
    "import os\n",
    "\n",
    "project_path = r'/home/craxiss/Documents/projects/kapsul_etkinlik_v2'\n",
    "\n",
    "os.chdir(project_path)\n",
    "sys.path.append(project_path)"
   ]
  },
  {
   "cell_type": "markdown",
   "metadata": {},
   "source": [
    "# Import"
   ]
  },
  {
   "cell_type": "code",
   "execution_count": 151,
   "metadata": {},
   "outputs": [],
   "source": [
    "from helpers import column_formatter, utf8_convert, first_letter_id_generator\n",
    "from charset_normalizer import detect\n",
    "from config import data_path as path\n",
    "from string import ascii_lowercase\n",
    "from itertools import combinations \n",
    "from json import load, dump\n",
    "import pandas as pd\n",
    "import warnings\n",
    "import openpyxl"
   ]
  },
  {
   "cell_type": "markdown",
   "metadata": {},
   "source": [
    "# Read"
   ]
  },
  {
   "cell_type": "code",
   "execution_count": 152,
   "metadata": {},
   "outputs": [],
   "source": [
    "information = pd.read_excel(\n",
    "    path+'/3-result/information.xlsx', index_col='Unnamed: 0')\n",
    "events_per_person = pd.read_excel(\n",
    "    path+'/3-result/events_per_person.xlsx', index_col='Unnamed: 0')\n",
    "events = pd.read_excel(\n",
    "    path+'/3-result/events.xlsx', index_col='Unnamed: 0')\n",
    "ohe = pd.read_excel(\n",
    "    path+'/3-result/event_per_person_ohe.xlsx', index_col='Unnamed: 0')\n",
    "\n",
    "\n",
    "with pd.ExcelFile(path + '/2-cleaned/basvuru.xlsx') as appeals_xlsx:\n",
    "    appeals = pd.read_excel(\n",
    "        appeals_xlsx, index_col='Unnamed: 0', sheet_name='Başvurular')\n",
    "    lessons_all = pd.read_excel(\n",
    "        appeals_xlsx, index_col='Unnamed: 0', sheet_name='Dersler')\n",
    "\n",
    "\n",
    "with pd.ExcelFile(path + '/2-cleaned/yoklama.xlsx') as rolls_xlsx:\n",
    "    rolls_info = pd.read_excel(\n",
    "        rolls_xlsx, 'General Info', index_col='Unnamed: 0')\n",
    "\n",
    "    rolls = dict()\n",
    "    for sheet in rolls_info.index:\n",
    "        rolls[sheet] = pd.read_excel(rolls_xlsx, sheet)\n",
    "\n",
    "information['id'] = information.index"
   ]
  },
  {
   "cell_type": "markdown",
   "metadata": {},
   "source": [
    "# Modify Event.xlsx"
   ]
  },
  {
   "cell_type": "markdown",
   "metadata": {},
   "source": [
    "## Get Appeal & Roll Count"
   ]
  },
  {
   "cell_type": "code",
   "execution_count": 153,
   "metadata": {},
   "outputs": [],
   "source": [
    "appeals_list, rolls_list = list(), list()\n",
    "for i in range(1,25):\n",
    "    appeals_list.append(ohe[f'b{i}'].sum())\n",
    "    rolls_list.append(ohe[f'k{i}'].sum())\n",
    "\n",
    "events['basvuru'], events['katılım'] = appeals_list, rolls_list\n",
    "\n",
    "events['oran'] = (events['katılım'] / events['basvuru'])* 100"
   ]
  },
  {
   "cell_type": "code",
   "execution_count": 154,
   "metadata": {},
   "outputs": [],
   "source": [
    "groups = ['ay', 'gün', 'saat', 'süre']\n",
    "\n",
    "comb = dict()\n",
    "\n",
    "\n",
    "def merger(df1, df2, df3, df4, df5=None):\n",
    "    df1['basvuru'] = df4['basvuru']\n",
    "    df1['etkinlik sayısı'] = df2['eğitim']\n",
    "    df1['etkinlikler'] = df3['eğitim']\n",
    "    # df1['egitimciler'] = df5['eğitimci']\n",
    "    return df1\n",
    "\n",
    "\n",
    "with warnings.catch_warnings(record=True) as w:\n",
    "    warnings.simplefilter(\"always\")\n",
    "    # all\n",
    "    comb[\" \".join(groups)] = merger(\n",
    "        events.groupby(by=groups).sum()[['katılım']],\n",
    "        events.groupby(by=groups).count()[['eğitim']],\n",
    "        pd.DataFrame(events.groupby(by=groups)[['eğitim']].sum()[\n",
    "                     'eğitim'].str.split(' 101').str.join(', ').str[:-2]),\n",
    "        events.groupby(by=groups).sum()[['basvuru']]\n",
    "    )\n",
    "\n",
    "    # 3 combination\n",
    "    for iter in list(combinations(groups, 3)):\n",
    "        comb[\" \".join(iter)] = merger(\n",
    "            events.groupby(by=list(iter)).sum()[['katılım']],\n",
    "            events.groupby(by=list(iter)).count()[['eğitim']],\n",
    "            pd.DataFrame(events.groupby(by=list(iter))[['eğitim']].sum()[\n",
    "                         'eğitim'].str.split(' 101').str.join(', ').str[:-2]),\n",
    "            events.groupby(by=list(iter)).sum()[['basvuru']]\n",
    "            )\n",
    "\n",
    "    # 2 combination\n",
    "    for iter in list(combinations(groups, 2)):\n",
    "        comb[\" \".join(iter)] = merger(\n",
    "            events.groupby(by=list(iter)).sum()[['katılım']],\n",
    "            events.groupby(by=list(iter)).count()[['eğitim']],\n",
    "            pd.DataFrame(events.groupby(by=list(iter))[['eğitim']].sum()[\n",
    "                         'eğitim'].str.split(' 101').str.join(', ').str[:-2]),\n",
    "            events.groupby(by=list(iter)).sum()[['basvuru']]\n",
    "            )\n",
    "\n",
    "    # one\n",
    "    for group in groups:\n",
    "        comb[group] = merger(\n",
    "            events.groupby(by=group).sum()[['katılım']],\n",
    "            events.groupby(by=group).count()[['eğitim']],\n",
    "            pd.DataFrame(events.groupby(by=group)[['eğitim']].sum()[\n",
    "                         'eğitim'].str.split(' 101').str.join(', ').str[:-2]),\n",
    "            events.groupby(by=group).sum()[['basvuru']]\n",
    "            )\n"
   ]
  },
  {
   "cell_type": "markdown",
   "metadata": {},
   "source": [
    "# Write"
   ]
  },
  {
   "cell_type": "code",
   "execution_count": 155,
   "metadata": {},
   "outputs": [],
   "source": [
    "with pd.ExcelWriter(path+'3-result/groupby.xlsx', mode='w') as writer:\n",
    "    for group,df in comb.items():\n",
    "        df.to_excel(writer, sheet_name=group)\n",
    "\n",
    "\n",
    "book = openpyxl.load_workbook(path+'3-result/events.xlsx')\n",
    "with pd.ExcelWriter(path+'3-result/events.xlsx', engine='openpyxl') as writer:\n",
    "    writer.book = book\n",
    "    events.to_excel(writer, sheet_name='Events-Modified')"
   ]
  }
 ],
 "metadata": {
  "kernelspec": {
   "display_name": "Python 3.10.6 64-bit",
   "language": "python",
   "name": "python3"
  },
  "language_info": {
   "codemirror_mode": {
    "name": "ipython",
    "version": 3
   },
   "file_extension": ".py",
   "mimetype": "text/x-python",
   "name": "python",
   "nbconvert_exporter": "python",
   "pygments_lexer": "ipython3",
   "version": "3.10.6"
  },
  "orig_nbformat": 4,
  "vscode": {
   "interpreter": {
    "hash": "916dbcbb3f70747c44a77c7bcd40155683ae19c65e1c03b4aa3499c5328201f1"
   }
  }
 },
 "nbformat": 4,
 "nbformat_minor": 2
}
