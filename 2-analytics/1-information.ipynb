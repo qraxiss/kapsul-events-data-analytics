{
 "cells": [
  {
   "cell_type": "markdown",
   "metadata": {},
   "source": [
    "# Path"
   ]
  },
  {
   "cell_type": "code",
   "execution_count": 1,
   "metadata": {},
   "outputs": [],
   "source": [
    "import sys\n",
    "import os\n",
    "\n",
    "project_path = r'/home/craxiss/Documents/projects/kapsul_etkinlik_v2'\n",
    "\n",
    "os.chdir(project_path)\n",
    "sys.path.append(project_path)"
   ]
  },
  {
   "cell_type": "markdown",
   "metadata": {},
   "source": [
    "# Imports"
   ]
  },
  {
   "cell_type": "code",
   "execution_count": 2,
   "metadata": {},
   "outputs": [],
   "source": [
    "from helpers import column_formatter, first_letter_id_generator\n",
    "from charset_normalizer import detect\n",
    "from config import data_path as path\n",
    "from string import ascii_lowercase\n",
    "from json import load, dump\n",
    "import pandas as pd\n",
    "import openpyxl"
   ]
  },
  {
   "cell_type": "markdown",
   "metadata": {},
   "source": [
    "# Read"
   ]
  },
  {
   "cell_type": "code",
   "execution_count": 3,
   "metadata": {},
   "outputs": [],
   "source": [
    "with pd.ExcelFile(path + '/2-cleaned/basvuru.xlsx') as appeals_xlsx:\n",
    "    appeals = pd.read_excel(appeals_xlsx, index_col='Unnamed: 0', sheet_name='Başvurular')\n",
    "    lessons_all = pd.read_excel(appeals_xlsx, index_col='Unnamed: 0', sheet_name='Dersler')\n",
    "\n",
    "\n",
    "with pd.ExcelFile(path + '/2-cleaned/yoklama.xlsx') as rolls_xlsx:\n",
    "    rolls_info = pd.read_excel(rolls_xlsx, 'General Info', index_col='Unnamed: 0')\n",
    "\n",
    "    rolls = dict()\n",
    "    for sheet in rolls_info.index:\n",
    "        rolls[sheet] = pd.read_excel(rolls_xlsx, sheet)"
   ]
  },
  {
   "cell_type": "markdown",
   "metadata": {},
   "source": [
    "# Concatting"
   ]
  },
  {
   "cell_type": "markdown",
   "metadata": {},
   "source": [
    "## Get Known Genders"
   ]
  },
  {
   "cell_type": "code",
   "execution_count": 4,
   "metadata": {},
   "outputs": [],
   "source": [
    "genders = dict()\n",
    "for sheet in rolls:\n",
    "    df_temp = rolls[sheet]\n",
    "    for name, gender in zip(df_temp['name'], df_temp['gender']):\n",
    "        genders[name] = gender"
   ]
  },
  {
   "cell_type": "markdown",
   "metadata": {},
   "source": [
    "## Concat Genders & Information"
   ]
  },
  {
   "cell_type": "markdown",
   "metadata": {},
   "source": [
    "### Appeals"
   ]
  },
  {
   "cell_type": "code",
   "execution_count": 5,
   "metadata": {},
   "outputs": [],
   "source": [
    "information = dict()\n",
    "duplicate_person = list()\n",
    "for name, phone, mail in zip(appeals['name'], appeals['phone'], appeals['mail']):\n",
    "    \n",
    "    try:\n",
    "        gender = genders[name]\n",
    "    except KeyError:\n",
    "        gender = float('NaN')\n",
    "\n",
    "    personal = {\n",
    "        'name': name,\n",
    "        'phone': phone,\n",
    "        'mail': mail,\n",
    "        'gender': gender\n",
    "    }\n",
    "\n",
    "    if name not in information:\n",
    "        information[name] = personal\n",
    "    else:\n",
    "        duplicate_person.append([information[name], personal])"
   ]
  },
  {
   "cell_type": "code",
   "execution_count": 6,
   "metadata": {},
   "outputs": [
    {
     "data": {
      "text/plain": [
       "460"
      ]
     },
     "execution_count": 6,
     "metadata": {},
     "output_type": "execute_result"
    }
   ],
   "source": [
    "len(information)"
   ]
  },
  {
   "cell_type": "markdown",
   "metadata": {},
   "source": [
    "### Rolls"
   ]
  },
  {
   "cell_type": "code",
   "execution_count": 7,
   "metadata": {},
   "outputs": [],
   "source": [
    "for sheet in rolls:\n",
    "    df = rolls[sheet].copy()\n",
    "\n",
    "    for name in df.name:\n",
    "        personal = {\n",
    "            'name': name,\n",
    "            'phone': float('NaN'),\n",
    "            'mail': float('NaN'),\n",
    "            'gender': genders[name]\n",
    "        }\n",
    "\n",
    "        if name not in information:\n",
    "            information[name] = personal\n"
   ]
  },
  {
   "cell_type": "markdown",
   "metadata": {},
   "source": [
    "# Id"
   ]
  },
  {
   "cell_type": "code",
   "execution_count": 8,
   "metadata": {},
   "outputs": [],
   "source": [
    "def first_letter_id_generator(name:str, hash_table:dict):\n",
    "    try:\n",
    "        letter = name[0]\n",
    "    except IndexError:\n",
    "        letter = name\n",
    "    finally:\n",
    "        id = ['22']\n",
    "        try:\n",
    "            id.extend(hash_table[letter])\n",
    "        except KeyError:\n",
    "            letter = letter.lower() # for \"NaN\"\n",
    "            id.extend(hash_table[letter])\n",
    "        finally:\n",
    "            hash_table[letter][1] += 1\n",
    "\n",
    "    id[1:]=(list(map(lambda x: str(x)[1:], id[1:])))\n",
    "\n",
    "    return \"\".join(id), hash_table"
   ]
  },
  {
   "cell_type": "code",
   "execution_count": null,
   "metadata": {},
   "outputs": [],
   "source": [
    "lowercase_letters = list(ascii_lowercase)\n",
    "lowercase_letters.extend([\" \", \"\"])\n",
    "letter_codes = list()\n",
    "\n",
    "for i, letter in enumerate(lowercase_letters):\n",
    "    letter_codes.append([101+i, 1001+i])\n",
    "\n",
    "id_dict = dict()\n",
    "\n",
    "for letter, code in zip(lowercase_letters, letter_codes):\n",
    "    id_dict[letter] = code\n",
    "\n",
    "id_information = dict()\n",
    "for name, info in information.items():\n",
    "    if type(name) == type(float('NaN')):\n",
    "        name = \"\"\n",
    "    id, id_dict = first_letter_id_generator(name, id_dict)\n",
    "    id_information[id] = info"
   ]
  },
  {
   "cell_type": "markdown",
   "metadata": {},
   "source": [
    "# DataFrame"
   ]
  },
  {
   "cell_type": "code",
   "execution_count": null,
   "metadata": {},
   "outputs": [],
   "source": [
    "information_df = pd.DataFrame(id_information).T"
   ]
  },
  {
   "cell_type": "markdown",
   "metadata": {},
   "source": [
    "# Write"
   ]
  },
  {
   "cell_type": "code",
   "execution_count": null,
   "metadata": {},
   "outputs": [],
   "source": [
    "with pd.ExcelWriter(path+'3-result/information.xlsx', mode='w') as writer:\n",
    "    information_df.to_excel(writer, sheet_name='Information')"
   ]
  }
 ],
 "metadata": {
  "kernelspec": {
   "display_name": "Python 3.10.6 64-bit",
   "language": "python",
   "name": "python3"
  },
  "language_info": {
   "codemirror_mode": {
    "name": "ipython",
    "version": 3
   },
   "file_extension": ".py",
   "mimetype": "text/x-python",
   "name": "python",
   "nbconvert_exporter": "python",
   "pygments_lexer": "ipython3",
   "version": "3.10.6"
  },
  "orig_nbformat": 4,
  "vscode": {
   "interpreter": {
    "hash": "916dbcbb3f70747c44a77c7bcd40155683ae19c65e1c03b4aa3499c5328201f1"
   }
  }
 },
 "nbformat": 4,
 "nbformat_minor": 2
}
